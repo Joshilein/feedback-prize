{
 "cells": [
  {
   "cell_type": "code",
   "execution_count": 1,
   "id": "ea00360b",
   "metadata": {
    "execution": {
     "iopub.execute_input": "2025-06-05T22:04:48.179409Z",
     "iopub.status.busy": "2025-06-05T22:04:48.178985Z",
     "iopub.status.idle": "2025-06-05T22:05:08.983738Z",
     "shell.execute_reply": "2025-06-05T22:05:08.982316Z"
    },
    "papermill": {
     "duration": 20.822718,
     "end_time": "2025-06-05T22:05:08.985656",
     "exception": false,
     "start_time": "2025-06-05T22:04:48.162938",
     "status": "completed"
    },
    "tags": []
   },
   "outputs": [],
   "source": [
    "import pandas as pd\n",
    "import numpy as np\n",
    "import re\n",
    "import seaborn as sns\n",
    "import matplotlib.pyplot as plt\n",
    "from sklearn.multioutput import MultiOutputRegressor\n",
    "from lightgbm import LGBMRegressor\n",
    "from catboost import CatBoostRegressor\n",
    "import xgboost as xgb\n",
    "from textblob import TextBlob\n",
    "import spacy\n",
    "import spacy.util\n",
    "import nltk\n",
    "from nltk.tokenize import RegexpTokenizer\n",
    "from nltk.tokenize import word_tokenize\n",
    "from nltk.corpus import stopwords\n",
    "from collections import Counter\n",
    "from sklearn.linear_model import Ridge\n",
    "from sklearn.linear_model import LinearRegression\n",
    "from sklearn.preprocessing import Normalizer\n",
    "from tqdm import tqdm\n",
    "from nltk.sentiment.vader import SentimentIntensityAnalyzer\n",
    "from string import punctuation\n",
    "from sklearn.metrics import mean_squared_error, mean_absolute_error\n",
    "from sklearn import preprocessing\n",
    "trans = preprocessing.MinMaxScaler()\n",
    "from collections import Counter\n",
    "from sklearn.feature_extraction.text import TfidfVectorizer\n",
    "from wordcloud import WordCloud\n",
    "from sklearn.ensemble import RandomForestRegressor\n",
    "from sklearn.model_selection import train_test_split\n",
    "import torch\n",
    "import torch.nn as nn\n",
    "from tqdm.notebook import tqdm\n",
    "from sklearn.metrics.pairwise import cosine_similarity"
   ]
  },
  {
   "cell_type": "code",
   "execution_count": 2,
   "id": "59777d8b",
   "metadata": {
    "execution": {
     "iopub.execute_input": "2025-06-05T22:05:09.015955Z",
     "iopub.status.busy": "2025-06-05T22:05:09.015005Z",
     "iopub.status.idle": "2025-06-05T22:05:14.319281Z",
     "shell.execute_reply": "2025-06-05T22:05:14.318235Z"
    },
    "papermill": {
     "duration": 5.321293,
     "end_time": "2025-06-05T22:05:14.321120",
     "exception": false,
     "start_time": "2025-06-05T22:05:08.999827",
     "status": "completed"
    },
    "tags": []
   },
   "outputs": [],
   "source": [
    "nlp = spacy.load(\"/kaggle/input/en-core-web-lg/en_core_web_lg/en_core_web_lg-3.8.0\")"
   ]
  },
  {
   "cell_type": "code",
   "execution_count": 3,
   "id": "fcc11fec",
   "metadata": {
    "execution": {
     "iopub.execute_input": "2025-06-05T22:05:14.350039Z",
     "iopub.status.busy": "2025-06-05T22:05:14.349594Z",
     "iopub.status.idle": "2025-06-05T22:05:14.354864Z",
     "shell.execute_reply": "2025-06-05T22:05:14.353926Z"
    },
    "papermill": {
     "duration": 0.021931,
     "end_time": "2025-06-05T22:05:14.356667",
     "exception": false,
     "start_time": "2025-06-05T22:05:14.334736",
     "status": "completed"
    },
    "tags": []
   },
   "outputs": [],
   "source": [
    "download_dir=\"/root/nltk_data\""
   ]
  },
  {
   "cell_type": "code",
   "execution_count": 4,
   "id": "5cf9ed9e",
   "metadata": {
    "execution": {
     "iopub.execute_input": "2025-06-05T22:05:14.393236Z",
     "iopub.status.busy": "2025-06-05T22:05:14.392345Z",
     "iopub.status.idle": "2025-06-05T22:05:14.680217Z",
     "shell.execute_reply": "2025-06-05T22:05:14.679113Z"
    },
    "papermill": {
     "duration": 0.304625,
     "end_time": "2025-06-05T22:05:14.682286",
     "exception": false,
     "start_time": "2025-06-05T22:05:14.377661",
     "status": "completed"
    },
    "tags": []
   },
   "outputs": [
    {
     "data": {
      "text/html": [
       "<div>\n",
       "<style scoped>\n",
       "    .dataframe tbody tr th:only-of-type {\n",
       "        vertical-align: middle;\n",
       "    }\n",
       "\n",
       "    .dataframe tbody tr th {\n",
       "        vertical-align: top;\n",
       "    }\n",
       "\n",
       "    .dataframe thead th {\n",
       "        text-align: right;\n",
       "    }\n",
       "</style>\n",
       "<table border=\"1\" class=\"dataframe\">\n",
       "  <thead>\n",
       "    <tr style=\"text-align: right;\">\n",
       "      <th></th>\n",
       "      <th>text_id</th>\n",
       "      <th>full_text</th>\n",
       "      <th>cohesion</th>\n",
       "      <th>syntax</th>\n",
       "      <th>vocabulary</th>\n",
       "      <th>phraseology</th>\n",
       "      <th>grammar</th>\n",
       "      <th>conventions</th>\n",
       "    </tr>\n",
       "  </thead>\n",
       "  <tbody>\n",
       "    <tr>\n",
       "      <th>0</th>\n",
       "      <td>0016926B079C</td>\n",
       "      <td>I think that students would benefit from learn...</td>\n",
       "      <td>3.5</td>\n",
       "      <td>3.5</td>\n",
       "      <td>3.0</td>\n",
       "      <td>3.0</td>\n",
       "      <td>4.0</td>\n",
       "      <td>3.0</td>\n",
       "    </tr>\n",
       "    <tr>\n",
       "      <th>1</th>\n",
       "      <td>0022683E9EA5</td>\n",
       "      <td>When a problem is a change you have to let it ...</td>\n",
       "      <td>2.5</td>\n",
       "      <td>2.5</td>\n",
       "      <td>3.0</td>\n",
       "      <td>2.0</td>\n",
       "      <td>2.0</td>\n",
       "      <td>2.5</td>\n",
       "    </tr>\n",
       "  </tbody>\n",
       "</table>\n",
       "</div>"
      ],
      "text/plain": [
       "        text_id                                          full_text  cohesion  \\\n",
       "0  0016926B079C  I think that students would benefit from learn...       3.5   \n",
       "1  0022683E9EA5  When a problem is a change you have to let it ...       2.5   \n",
       "\n",
       "   syntax  vocabulary  phraseology  grammar  conventions  \n",
       "0     3.5         3.0          3.0      4.0          3.0  \n",
       "1     2.5         3.0          2.0      2.0          2.5  "
      ]
     },
     "metadata": {},
     "output_type": "display_data"
    }
   ],
   "source": [
    "# IN KAGGLE:\n",
    "train = pd.read_csv(\"/kaggle/input/feedback-prize-english-language-learning/train.csv\")\n",
    "test = pd.read_csv(\"/kaggle/input/feedback-prize-english-language-learning/test.csv\")\n",
    "display(train.head(2))"
   ]
  },
  {
   "cell_type": "markdown",
   "id": "c47f5d29",
   "metadata": {
    "papermill": {
     "duration": 0.013321,
     "end_time": "2025-06-05T22:05:14.709042",
     "exception": false,
     "start_time": "2025-06-05T22:05:14.695721",
     "status": "completed"
    },
    "tags": []
   },
   "source": [
    "## Text Feature Engineering"
   ]
  },
  {
   "cell_type": "code",
   "execution_count": 5,
   "id": "bf9ee027",
   "metadata": {
    "execution": {
     "iopub.execute_input": "2025-06-05T22:05:14.736493Z",
     "iopub.status.busy": "2025-06-05T22:05:14.736135Z",
     "iopub.status.idle": "2025-06-05T22:05:14.741029Z",
     "shell.execute_reply": "2025-06-05T22:05:14.740133Z"
    },
    "papermill": {
     "duration": 0.020529,
     "end_time": "2025-06-05T22:05:14.742709",
     "exception": false,
     "start_time": "2025-06-05T22:05:14.722180",
     "status": "completed"
    },
    "tags": []
   },
   "outputs": [],
   "source": [
    "def count_capital_words(text):\n",
    "    return sum(map(str.isupper,text.split()))"
   ]
  },
  {
   "cell_type": "code",
   "execution_count": 6,
   "id": "599364ca",
   "metadata": {
    "execution": {
     "iopub.execute_input": "2025-06-05T22:05:14.770372Z",
     "iopub.status.busy": "2025-06-05T22:05:14.769496Z",
     "iopub.status.idle": "2025-06-05T22:05:14.921905Z",
     "shell.execute_reply": "2025-06-05T22:05:14.920836Z"
    },
    "papermill": {
     "duration": 0.168061,
     "end_time": "2025-06-05T22:05:14.923932",
     "exception": false,
     "start_time": "2025-06-05T22:05:14.755871",
     "status": "completed"
    },
    "tags": []
   },
   "outputs": [],
   "source": [
    "var = 'n_capital'\n",
    "train[var]=train['full_text'].apply(count_capital_words)\n",
    "test[var]=test['full_text'].apply(count_capital_words)"
   ]
  },
  {
   "cell_type": "markdown",
   "id": "23f46be9",
   "metadata": {
    "papermill": {
     "duration": 0.014177,
     "end_time": "2025-06-05T22:05:14.956389",
     "exception": false,
     "start_time": "2025-06-05T22:05:14.942212",
     "status": "completed"
    },
    "tags": []
   },
   "source": [
    "### Punctuation"
   ]
  },
  {
   "cell_type": "code",
   "execution_count": 7,
   "id": "a67b35d1",
   "metadata": {
    "execution": {
     "iopub.execute_input": "2025-06-05T22:05:15.058693Z",
     "iopub.status.busy": "2025-06-05T22:05:15.058231Z",
     "iopub.status.idle": "2025-06-05T22:05:15.064376Z",
     "shell.execute_reply": "2025-06-05T22:05:15.063506Z"
    },
    "papermill": {
     "duration": 0.022312,
     "end_time": "2025-06-05T22:05:15.066139",
     "exception": false,
     "start_time": "2025-06-05T22:05:15.043827",
     "status": "completed"
    },
    "tags": []
   },
   "outputs": [],
   "source": [
    "def count_punctuations(text):\n",
    "    punctuations=\"'!\\\"#$%&'()*+,-./:;<=>?@[\\]^_`{|}~'\"\n",
    "    count=0\n",
    "    for i in punctuations:\n",
    "        count+=text.count(i)\n",
    "    return count"
   ]
  },
  {
   "cell_type": "code",
   "execution_count": 8,
   "id": "a3eb5b09",
   "metadata": {
    "execution": {
     "iopub.execute_input": "2025-06-05T22:05:15.095904Z",
     "iopub.status.busy": "2025-06-05T22:05:15.095471Z",
     "iopub.status.idle": "2025-06-05T22:05:15.257337Z",
     "shell.execute_reply": "2025-06-05T22:05:15.256065Z"
    },
    "papermill": {
     "duration": 0.17926,
     "end_time": "2025-06-05T22:05:15.259876",
     "exception": false,
     "start_time": "2025-06-05T22:05:15.080616",
     "status": "completed"
    },
    "tags": []
   },
   "outputs": [],
   "source": [
    "var = 'n_punct'\n",
    "train[var]=train['full_text'].apply(count_punctuations)\n",
    "test[var]=test['full_text'].apply(count_punctuations)"
   ]
  },
  {
   "cell_type": "code",
   "execution_count": 9,
   "id": "9730cd16",
   "metadata": {
    "execution": {
     "iopub.execute_input": "2025-06-05T22:05:15.289097Z",
     "iopub.status.busy": "2025-06-05T22:05:15.288402Z",
     "iopub.status.idle": "2025-06-05T22:05:15.293434Z",
     "shell.execute_reply": "2025-06-05T22:05:15.292549Z"
    },
    "papermill": {
     "duration": 0.021086,
     "end_time": "2025-06-05T22:05:15.294896",
     "exception": false,
     "start_time": "2025-06-05T22:05:15.273810",
     "status": "completed"
    },
    "tags": []
   },
   "outputs": [],
   "source": [
    "def text_cleaner(text):\n",
    "    text = text.strip()\n",
    "    text = re.sub(r'\\n', ' ', text)\n",
    "    text = text.lower()\n",
    "    return text"
   ]
  },
  {
   "cell_type": "code",
   "execution_count": 10,
   "id": "c3c42651",
   "metadata": {
    "execution": {
     "iopub.execute_input": "2025-06-05T22:05:15.322540Z",
     "iopub.status.busy": "2025-06-05T22:05:15.322151Z",
     "iopub.status.idle": "2025-06-05T22:05:15.360041Z",
     "shell.execute_reply": "2025-06-05T22:05:15.358786Z"
    },
    "papermill": {
     "duration": 0.054278,
     "end_time": "2025-06-05T22:05:15.362178",
     "exception": false,
     "start_time": "2025-06-05T22:05:15.307900",
     "status": "completed"
    },
    "tags": []
   },
   "outputs": [],
   "source": [
    "train['full_text']=train['full_text'].apply(text_cleaner)\n",
    "test['full_text']=test['full_text'].apply(text_cleaner)"
   ]
  },
  {
   "cell_type": "markdown",
   "id": "15aea8c1",
   "metadata": {
    "papermill": {
     "duration": 0.012662,
     "end_time": "2025-06-05T22:05:15.388413",
     "exception": false,
     "start_time": "2025-06-05T22:05:15.375751",
     "status": "completed"
    },
    "tags": []
   },
   "source": [
    "### Number of Unique Words"
   ]
  },
  {
   "cell_type": "code",
   "execution_count": 11,
   "id": "2d0eca23",
   "metadata": {
    "execution": {
     "iopub.execute_input": "2025-06-05T22:05:15.416909Z",
     "iopub.status.busy": "2025-06-05T22:05:15.416514Z",
     "iopub.status.idle": "2025-06-05T22:05:15.421805Z",
     "shell.execute_reply": "2025-06-05T22:05:15.420819Z"
    },
    "papermill": {
     "duration": 0.02198,
     "end_time": "2025-06-05T22:05:15.423375",
     "exception": false,
     "start_time": "2025-06-05T22:05:15.401395",
     "status": "completed"
    },
    "tags": []
   },
   "outputs": [],
   "source": [
    "def n_unique_words(text):\n",
    "    text = text.translate(str.maketrans(\"\", \"\", punctuation))\n",
    "    tokenizer = RegexpTokenizer(r'\\w+')\n",
    "    words = tokenizer.tokenize(text)\n",
    "    unique_words = np.unique(words)\n",
    "    return len(unique_words)"
   ]
  },
  {
   "cell_type": "code",
   "execution_count": 12,
   "id": "da226671",
   "metadata": {
    "execution": {
     "iopub.execute_input": "2025-06-05T22:05:15.452244Z",
     "iopub.status.busy": "2025-06-05T22:05:15.451151Z",
     "iopub.status.idle": "2025-06-05T22:05:16.618767Z",
     "shell.execute_reply": "2025-06-05T22:05:16.617834Z"
    },
    "papermill": {
     "duration": 1.184044,
     "end_time": "2025-06-05T22:05:16.620694",
     "exception": false,
     "start_time": "2025-06-05T22:05:15.436650",
     "status": "completed"
    },
    "tags": []
   },
   "outputs": [],
   "source": [
    "var = 'n_unique'\n",
    "train[var]=train['full_text'].apply(n_unique_words)\n",
    "test[var]=test['full_text'].apply(n_unique_words)"
   ]
  },
  {
   "cell_type": "code",
   "execution_count": 13,
   "id": "e66d4a1c",
   "metadata": {
    "execution": {
     "iopub.execute_input": "2025-06-05T22:05:16.649375Z",
     "iopub.status.busy": "2025-06-05T22:05:16.649035Z",
     "iopub.status.idle": "2025-06-05T22:05:17.173239Z",
     "shell.execute_reply": "2025-06-05T22:05:17.171769Z"
    },
    "papermill": {
     "duration": 0.541758,
     "end_time": "2025-06-05T22:05:17.175476",
     "exception": false,
     "start_time": "2025-06-05T22:05:16.633718",
     "status": "completed"
    },
    "tags": []
   },
   "outputs": [
    {
     "name": "stderr",
     "output_type": "stream",
     "text": [
      "/usr/local/lib/python3.11/dist-packages/seaborn/_oldcore.py:1119: FutureWarning: use_inf_as_na option is deprecated and will be removed in a future version. Convert inf values to NaN before operating instead.\n",
      "  with pd.option_context('mode.use_inf_as_na', True):\n",
      "/usr/local/lib/python3.11/dist-packages/seaborn/axisgrid.py:118: UserWarning: The figure layout has changed to tight\n",
      "  self._figure.tight_layout(*args, **kwargs)\n"
     ]
    },
    {
     "data": {
      "text/plain": [
       "<Figure size 500x2000 with 0 Axes>"
      ]
     },
     "metadata": {},
     "output_type": "display_data"
    },
    {
     "data": {
      "image/png": "[encoded data removed]",
      "text/plain": [
       "<Figure size 500x500 with 1 Axes>"
      ]
     },
     "metadata": {},
     "output_type": "display_data"
    }
   ],
   "source": [
    "plt.figure(figsize=(5,20))\n",
    "sns.displot(data=train,x=var,kde=\"True\")\n",
    "plt.title('Unique Word Count Distribution')\n",
    "plt.show()"
   ]
  },
  {
   "cell_type": "markdown",
   "id": "2a8be778",
   "metadata": {
    "papermill": {
     "duration": 0.013378,
     "end_time": "2025-06-05T22:05:17.210299",
     "exception": false,
     "start_time": "2025-06-05T22:05:17.196921",
     "status": "completed"
    },
    "tags": []
   },
   "source": [
    "### Number of Unique Words (exclude stop words)"
   ]
  },
  {
   "cell_type": "code",
   "execution_count": 14,
   "id": "16411f3b",
   "metadata": {
    "execution": {
     "iopub.execute_input": "2025-06-05T22:05:17.239043Z",
     "iopub.status.busy": "2025-06-05T22:05:17.238708Z",
     "iopub.status.idle": "2025-06-05T22:05:49.265012Z",
     "shell.execute_reply": "2025-06-05T22:05:49.263854Z"
    },
    "papermill": {
     "duration": 32.056314,
     "end_time": "2025-06-05T22:05:49.280344",
     "exception": false,
     "start_time": "2025-06-05T22:05:17.224030",
     "status": "completed"
    },
    "tags": []
   },
   "outputs": [
    {
     "name": "stderr",
     "output_type": "stream",
     "text": [
      "[nltk_data] Error loading stopwords: <urlopen error [Errno -3]\n",
      "[nltk_data]     Temporary failure in name resolution>\n"
     ]
    },
    {
     "data": {
      "text/plain": [
       "False"
      ]
     },
     "execution_count": 14,
     "metadata": {},
     "output_type": "execute_result"
    }
   ],
   "source": [
    "nltk.download('stopwords', download_dir=download_dir)"
   ]
  },
  {
   "cell_type": "code",
   "execution_count": 15,
   "id": "390bc6cf",
   "metadata": {
    "execution": {
     "iopub.execute_input": "2025-06-05T22:05:49.311626Z",
     "iopub.status.busy": "2025-06-05T22:05:49.311285Z",
     "iopub.status.idle": "2025-06-05T22:05:49.316252Z",
     "shell.execute_reply": "2025-06-05T22:05:49.315165Z"
    },
    "papermill": {
     "duration": 0.023066,
     "end_time": "2025-06-05T22:05:49.318141",
     "exception": false,
     "start_time": "2025-06-05T22:05:49.295075",
     "status": "completed"
    },
    "tags": []
   },
   "outputs": [],
   "source": [
    "nltk.data.path.append(download_dir)"
   ]
  },
  {
   "cell_type": "code",
   "execution_count": 16,
   "id": "0cc4311a",
   "metadata": {
    "execution": {
     "iopub.execute_input": "2025-06-05T22:05:49.348888Z",
     "iopub.status.busy": "2025-06-05T22:05:49.348555Z",
     "iopub.status.idle": "2025-06-05T22:05:49.354653Z",
     "shell.execute_reply": "2025-06-05T22:05:49.353684Z"
    },
    "papermill": {
     "duration": 0.023014,
     "end_time": "2025-06-05T22:05:49.356181",
     "exception": false,
     "start_time": "2025-06-05T22:05:49.333167",
     "status": "completed"
    },
    "tags": []
   },
   "outputs": [],
   "source": [
    "def n_unique_words_no_stop(text):\n",
    "    text = text.translate(str.maketrans(\"\", \"\", punctuation))\n",
    "    tokenizer = RegexpTokenizer(r'\\w+')\n",
    "    words = tokenizer.tokenize(text)\n",
    "    stop_words = set(stopwords.words('english'))\n",
    "    #remove stop words\n",
    "    words = [word for word in words if word not in stop_words]\n",
    "    unique_words = np.unique(words)\n",
    "    return len(unique_words)"
   ]
  },
  {
   "cell_type": "code",
   "execution_count": 17,
   "id": "3a67895b",
   "metadata": {
    "execution": {
     "iopub.execute_input": "2025-06-05T22:05:49.387998Z",
     "iopub.status.busy": "2025-06-05T22:05:49.387671Z",
     "iopub.status.idle": "2025-06-05T22:05:51.035511Z",
     "shell.execute_reply": "2025-06-05T22:05:51.034377Z"
    },
    "papermill": {
     "duration": 1.666343,
     "end_time": "2025-06-05T22:05:51.037413",
     "exception": false,
     "start_time": "2025-06-05T22:05:49.371070",
     "status": "completed"
    },
    "tags": []
   },
   "outputs": [],
   "source": [
    "var = 'n_unique_n_stop'\n",
    "train[var]=train['full_text'].apply(n_unique_words_no_stop)\n",
    "test[var]=test['full_text'].apply(n_unique_words_no_stop)"
   ]
  },
  {
   "cell_type": "code",
   "execution_count": 18,
   "id": "7f609e3c",
   "metadata": {
    "execution": {
     "iopub.execute_input": "2025-06-05T22:05:51.069351Z",
     "iopub.status.busy": "2025-06-05T22:05:51.068972Z",
     "iopub.status.idle": "2025-06-05T22:05:51.437628Z",
     "shell.execute_reply": "2025-06-05T22:05:51.436615Z"
    },
    "papermill": {
     "duration": 0.386749,
     "end_time": "2025-06-05T22:05:51.439520",
     "exception": false,
     "start_time": "2025-06-05T22:05:51.052771",
     "status": "completed"
    },
    "tags": []
   },
   "outputs": [
    {
     "name": "stderr",
     "output_type": "stream",
     "text": [
      "/usr/local/lib/python3.11/dist-packages/seaborn/_oldcore.py:1119: FutureWarning: use_inf_as_na option is deprecated and will be removed in a future version. Convert inf values to NaN before operating instead.\n",
      "  with pd.option_context('mode.use_inf_as_na', True):\n",
      "/usr/local/lib/python3.11/dist-packages/seaborn/axisgrid.py:118: UserWarning: The figure layout has changed to tight\n",
      "  self._figure.tight_layout(*args, **kwargs)\n"
     ]
    },
    {
     "data": {
      "text/plain": [
       "<Figure size 500x2000 with 0 Axes>"
      ]
     },
     "metadata": {},
     "output_type": "display_data"
    },
    {
     "data": {
      "image/png": "[encoded data removed]",
      "text/plain": [
       "<Figure size 500x500 with 1 Axes>"
      ]
     },
     "metadata": {},
     "output_type": "display_data"
    }
   ],
   "source": [
    "plt.figure(figsize=(5,20))\n",
    "sns.displot(data=train,x=var,kde=\"True\")\n",
    "plt.title('Number of Unique Words')\n",
    "plt.show()"
   ]
  },
  {
   "cell_type": "markdown",
   "id": "a8ab0f69",
   "metadata": {
    "papermill": {
     "duration": 0.014423,
     "end_time": "2025-06-05T22:05:51.469761",
     "exception": false,
     "start_time": "2025-06-05T22:05:51.455338",
     "status": "completed"
    },
    "tags": []
   },
   "source": [
    "### Number of Non-words"
   ]
  },
  {
   "cell_type": "code",
   "execution_count": 19,
   "id": "65e5cb60",
   "metadata": {
    "execution": {
     "iopub.execute_input": "2025-06-05T22:05:51.500487Z",
     "iopub.status.busy": "2025-06-05T22:05:51.500112Z",
     "iopub.status.idle": "2025-06-05T22:05:51.507302Z",
     "shell.execute_reply": "2025-06-05T22:05:51.505765Z"
    },
    "papermill": {
     "duration": 0.025079,
     "end_time": "2025-06-05T22:05:51.509280",
     "exception": false,
     "start_time": "2025-06-05T22:05:51.484201",
     "status": "completed"
    },
    "tags": []
   },
   "outputs": [],
   "source": [
    "def n_non_words(text):\n",
    "    text = text.translate(str.maketrans(\"\", \"\", punctuation))\n",
    "    tokenizer = RegexpTokenizer(r'\\w+')\n",
    "    words = tokenizer.tokenize(text)\n",
    "    stop_words = ['a', 'i', ' ']\n",
    "    #remove stop words\n",
    "    words = [word for word in words if len(word) == 1]\n",
    "    words = [word for word in words if word not in stop_words]\n",
    "    unique_words = np.unique(words)\n",
    "    return len(unique_words)"
   ]
  },
  {
   "cell_type": "code",
   "execution_count": 20,
   "id": "99587b41",
   "metadata": {
    "execution": {
     "iopub.execute_input": "2025-06-05T22:05:51.542242Z",
     "iopub.status.busy": "2025-06-05T22:05:51.541941Z",
     "iopub.status.idle": "2025-06-05T22:05:52.187949Z",
     "shell.execute_reply": "2025-06-05T22:05:52.186897Z"
    },
    "papermill": {
     "duration": 0.665058,
     "end_time": "2025-06-05T22:05:52.190046",
     "exception": false,
     "start_time": "2025-06-05T22:05:51.524988",
     "status": "completed"
    },
    "tags": []
   },
   "outputs": [],
   "source": [
    "var = 'n_n_word'\n",
    "train[var]=train['full_text'].apply(n_non_words)\n",
    "test[var]=test['full_text'].apply(n_non_words)"
   ]
  },
  {
   "cell_type": "code",
   "execution_count": 21,
   "id": "e5323a74",
   "metadata": {
    "execution": {
     "iopub.execute_input": "2025-06-05T22:05:52.220923Z",
     "iopub.status.busy": "2025-06-05T22:05:52.220600Z",
     "iopub.status.idle": "2025-06-05T22:05:52.539630Z",
     "shell.execute_reply": "2025-06-05T22:05:52.538753Z"
    },
    "papermill": {
     "duration": 0.336507,
     "end_time": "2025-06-05T22:05:52.541535",
     "exception": false,
     "start_time": "2025-06-05T22:05:52.205028",
     "status": "completed"
    },
    "tags": []
   },
   "outputs": [
    {
     "name": "stderr",
     "output_type": "stream",
     "text": [
      "/usr/local/lib/python3.11/dist-packages/seaborn/_oldcore.py:1119: FutureWarning: use_inf_as_na option is deprecated and will be removed in a future version. Convert inf values to NaN before operating instead.\n",
      "  with pd.option_context('mode.use_inf_as_na', True):\n",
      "/usr/local/lib/python3.11/dist-packages/seaborn/axisgrid.py:118: UserWarning: The figure layout has changed to tight\n",
      "  self._figure.tight_layout(*args, **kwargs)\n"
     ]
    },
    {
     "data": {
      "text/plain": [
       "<Figure size 500x2000 with 0 Axes>"
      ]
     },
     "metadata": {},
     "output_type": "display_data"
    },
    {
     "data": {
      "image/png": "[encoded data removed]",
      "text/plain": [
       "<Figure size 500x500 with 1 Axes>"
      ]
     },
     "metadata": {},
     "output_type": "display_data"
    }
   ],
   "source": [
    "plt.figure(figsize=(5,20))\n",
    "sns.displot(data=train,x=var,kde=\"True\")\n",
    "plt.title('Non-Word Count Distribution')\n",
    "plt.show()"
   ]
  },
  {
   "cell_type": "markdown",
   "id": "74b5a969",
   "metadata": {
    "papermill": {
     "duration": 0.016647,
     "end_time": "2025-06-05T22:05:52.574071",
     "exception": false,
     "start_time": "2025-06-05T22:05:52.557424",
     "status": "completed"
    },
    "tags": []
   },
   "source": [
    "### Number of Noun Phrases"
   ]
  },
  {
   "cell_type": "code",
   "execution_count": 22,
   "id": "c98d3523",
   "metadata": {
    "execution": {
     "iopub.execute_input": "2025-06-05T22:05:52.606043Z",
     "iopub.status.busy": "2025-06-05T22:05:52.605732Z",
     "iopub.status.idle": "2025-06-05T22:06:56.637086Z",
     "shell.execute_reply": "2025-06-05T22:06:56.635863Z"
    },
    "papermill": {
     "duration": 64.065121,
     "end_time": "2025-06-05T22:06:56.654394",
     "exception": false,
     "start_time": "2025-06-05T22:05:52.589273",
     "status": "completed"
    },
    "tags": []
   },
   "outputs": [
    {
     "name": "stderr",
     "output_type": "stream",
     "text": [
      "[nltk_data] Error loading brown: <urlopen error [Errno -3] Temporary\n",
      "[nltk_data]     failure in name resolution>\n",
      "[nltk_data] Error loading punkt_tab: <urlopen error [Errno -3]\n",
      "[nltk_data]     Temporary failure in name resolution>\n"
     ]
    },
    {
     "data": {
      "text/plain": [
       "False"
      ]
     },
     "execution_count": 22,
     "metadata": {},
     "output_type": "execute_result"
    }
   ],
   "source": [
    "nltk.download('brown', download_dir=download_dir)\n",
    "nltk.download('punkt_tab', download_dir=download_dir)"
   ]
  },
  {
   "cell_type": "code",
   "execution_count": 23,
   "id": "4215d40b",
   "metadata": {
    "execution": {
     "iopub.execute_input": "2025-06-05T22:06:56.686632Z",
     "iopub.status.busy": "2025-06-05T22:06:56.686276Z",
     "iopub.status.idle": "2025-06-05T22:06:56.691264Z",
     "shell.execute_reply": "2025-06-05T22:06:56.690284Z"
    },
    "papermill": {
     "duration": 0.023247,
     "end_time": "2025-06-05T22:06:56.693027",
     "exception": false,
     "start_time": "2025-06-05T22:06:56.669780",
     "status": "completed"
    },
    "tags": []
   },
   "outputs": [],
   "source": [
    "def count_noun_phrases(text):\n",
    "    blob = TextBlob(text)\n",
    "    return len(blob.noun_phrases)"
   ]
  },
  {
   "cell_type": "code",
   "execution_count": 24,
   "id": "183988d1",
   "metadata": {
    "execution": {
     "iopub.execute_input": "2025-06-05T22:06:56.736488Z",
     "iopub.status.busy": "2025-06-05T22:06:56.735461Z",
     "iopub.status.idle": "2025-06-05T22:07:21.476412Z",
     "shell.execute_reply": "2025-06-05T22:07:21.475343Z"
    },
    "papermill": {
     "duration": 24.76443,
     "end_time": "2025-06-05T22:07:21.478814",
     "exception": false,
     "start_time": "2025-06-05T22:06:56.714384",
     "status": "completed"
    },
    "tags": []
   },
   "outputs": [],
   "source": [
    "var = 'noun_phrase_count'\n",
    "train[var]=train['full_text'].apply(count_noun_phrases)\n",
    "test[var]=test['full_text'].apply(count_noun_phrases)"
   ]
  },
  {
   "cell_type": "code",
   "execution_count": 25,
   "id": "9d736f4a",
   "metadata": {
    "execution": {
     "iopub.execute_input": "2025-06-05T22:07:21.520307Z",
     "iopub.status.busy": "2025-06-05T22:07:21.519807Z",
     "iopub.status.idle": "2025-06-05T22:07:21.920780Z",
     "shell.execute_reply": "2025-06-05T22:07:21.919712Z"
    },
    "papermill": {
     "duration": 0.419789,
     "end_time": "2025-06-05T22:07:21.922615",
     "exception": false,
     "start_time": "2025-06-05T22:07:21.502826",
     "status": "completed"
    },
    "tags": []
   },
   "outputs": [
    {
     "name": "stderr",
     "output_type": "stream",
     "text": [
      "/usr/local/lib/python3.11/dist-packages/seaborn/_oldcore.py:1119: FutureWarning: use_inf_as_na option is deprecated and will be removed in a future version. Convert inf values to NaN before operating instead.\n",
      "  with pd.option_context('mode.use_inf_as_na', True):\n",
      "/usr/local/lib/python3.11/dist-packages/seaborn/axisgrid.py:118: UserWarning: The figure layout has changed to tight\n",
      "  self._figure.tight_layout(*args, **kwargs)\n"
     ]
    },
    {
     "data": {
      "text/plain": [
       "<Figure size 500x2000 with 0 Axes>"
      ]
     },
     "metadata": {},
     "output_type": "display_data"
    },
    {
     "data": {
      "image/png": "[encoded data removed]",
      "text/plain": [
       "<Figure size 500x500 with 1 Axes>"
      ]
     },
     "metadata": {},
     "output_type": "display_data"
    }
   ],
   "source": [
    "plt.figure(figsize=(5,20))\n",
    "sns.displot(data=train,x=var,kde=\"True\")\n",
    "plt.title('Number of Noun Phrases')\n",
    "plt.show()"
   ]
  },
  {
   "cell_type": "markdown",
   "id": "8a24fc23",
   "metadata": {
    "papermill": {
     "duration": 0.017021,
     "end_time": "2025-06-05T22:07:21.963358",
     "exception": false,
     "start_time": "2025-06-05T22:07:21.946337",
     "status": "completed"
    },
    "tags": []
   },
   "source": [
    "### Parts of Speech Tagging"
   ]
  },
  {
   "cell_type": "code",
   "execution_count": 26,
   "id": "72bcccca",
   "metadata": {
    "execution": {
     "iopub.execute_input": "2025-06-05T22:07:21.998433Z",
     "iopub.status.busy": "2025-06-05T22:07:21.997551Z",
     "iopub.status.idle": "2025-06-05T22:07:22.004426Z",
     "shell.execute_reply": "2025-06-05T22:07:22.003585Z"
    },
    "papermill": {
     "duration": 0.026161,
     "end_time": "2025-06-05T22:07:22.005942",
     "exception": false,
     "start_time": "2025-06-05T22:07:21.979781",
     "status": "completed"
    },
    "tags": []
   },
   "outputs": [],
   "source": [
    "def pos(text):\n",
    "    doc = nlp(text)\n",
    "    result = dict(Counter([t.pos_ for t in doc]))\n",
    "    missing = set(var) - set(result.keys())\n",
    "    for miss in missing:\n",
    "        result[miss] = np.nan\n",
    "    return pd.Series(result)"
   ]
  },
  {
   "cell_type": "code",
   "execution_count": 27,
   "id": "fdf292ca",
   "metadata": {
    "execution": {
     "iopub.execute_input": "2025-06-05T22:07:22.042465Z",
     "iopub.status.busy": "2025-06-05T22:07:22.042121Z",
     "iopub.status.idle": "2025-06-05T22:12:33.369416Z",
     "shell.execute_reply": "2025-06-05T22:12:33.368291Z"
    },
    "papermill": {
     "duration": 311.348898,
     "end_time": "2025-06-05T22:12:33.371471",
     "exception": false,
     "start_time": "2025-06-05T22:07:22.022573",
     "status": "completed"
    },
    "tags": []
   },
   "outputs": [],
   "source": [
    "var = ['PRON', 'VERB',\t'SCONJ', 'NOUN', 'AUX', 'ADP', 'PUNCT', 'PART',\t'CCONJ', 'ADV', 'DET', 'ADJ', 'SPACE', 'PROPN', 'NUM', 'INTJ', 'SYM', 'X']\n",
    "train[var]=train['full_text'].apply(pos)"
   ]
  },
  {
   "cell_type": "code",
   "execution_count": 28,
   "id": "31130541",
   "metadata": {
    "execution": {
     "iopub.execute_input": "2025-06-05T22:12:33.406887Z",
     "iopub.status.busy": "2025-06-05T22:12:33.406481Z",
     "iopub.status.idle": "2025-06-05T22:12:33.707927Z",
     "shell.execute_reply": "2025-06-05T22:12:33.707010Z"
    },
    "papermill": {
     "duration": 0.320963,
     "end_time": "2025-06-05T22:12:33.709854",
     "exception": false,
     "start_time": "2025-06-05T22:12:33.388891",
     "status": "completed"
    },
    "tags": []
   },
   "outputs": [],
   "source": [
    "test[var]=test['full_text'].apply(pos)"
   ]
  },
  {
   "cell_type": "markdown",
   "id": "6b00b506",
   "metadata": {
    "papermill": {
     "duration": 0.016246,
     "end_time": "2025-06-05T22:12:33.742909",
     "exception": false,
     "start_time": "2025-06-05T22:12:33.726663",
     "status": "completed"
    },
    "tags": []
   },
   "source": [
    "### Distributions"
   ]
  },
  {
   "cell_type": "code",
   "execution_count": 29,
   "id": "d3a22af0",
   "metadata": {
    "execution": {
     "iopub.execute_input": "2025-06-05T22:12:33.777289Z",
     "iopub.status.busy": "2025-06-05T22:12:33.776964Z",
     "iopub.status.idle": "2025-06-05T22:12:34.161299Z",
     "shell.execute_reply": "2025-06-05T22:12:34.160112Z"
    },
    "papermill": {
     "duration": 0.40367,
     "end_time": "2025-06-05T22:12:34.163376",
     "exception": false,
     "start_time": "2025-06-05T22:12:33.759706",
     "status": "completed"
    },
    "tags": []
   },
   "outputs": [
    {
     "name": "stderr",
     "output_type": "stream",
     "text": [
      "/usr/local/lib/python3.11/dist-packages/seaborn/_oldcore.py:1119: FutureWarning: use_inf_as_na option is deprecated and will be removed in a future version. Convert inf values to NaN before operating instead.\n",
      "  with pd.option_context('mode.use_inf_as_na', True):\n",
      "/usr/local/lib/python3.11/dist-packages/seaborn/axisgrid.py:118: UserWarning: The figure layout has changed to tight\n",
      "  self._figure.tight_layout(*args, **kwargs)\n"
     ]
    },
    {
     "data": {
      "text/plain": [
       "<Figure size 500x2000 with 0 Axes>"
      ]
     },
     "metadata": {},
     "output_type": "display_data"
    },
    {
     "data": {
      "image/png": "[encoded data removed]",
      "text/plain": [
       "<Figure size 500x500 with 1 Axes>"
      ]
     },
     "metadata": {},
     "output_type": "display_data"
    }
   ],
   "source": [
    "plt.figure(figsize=(5,20))\n",
    "sns.displot(data=train,x='PRON',kde=\"True\")\n",
    "plt.title('Number of Pronouns')\n",
    "plt.show()"
   ]
  },
  {
   "cell_type": "code",
   "execution_count": 30,
   "id": "8ebfa58a",
   "metadata": {
    "execution": {
     "iopub.execute_input": "2025-06-05T22:12:34.200563Z",
     "iopub.status.busy": "2025-06-05T22:12:34.200197Z",
     "iopub.status.idle": "2025-06-05T22:12:34.559851Z",
     "shell.execute_reply": "2025-06-05T22:12:34.558383Z"
    },
    "papermill": {
     "duration": 0.38073,
     "end_time": "2025-06-05T22:12:34.561508",
     "exception": false,
     "start_time": "2025-06-05T22:12:34.180778",
     "status": "completed"
    },
    "tags": []
   },
   "outputs": [
    {
     "name": "stderr",
     "output_type": "stream",
     "text": [
      "/usr/local/lib/python3.11/dist-packages/seaborn/_oldcore.py:1119: FutureWarning: use_inf_as_na option is deprecated and will be removed in a future version. Convert inf values to NaN before operating instead.\n",
      "  with pd.option_context('mode.use_inf_as_na', True):\n",
      "/usr/local/lib/python3.11/dist-packages/seaborn/axisgrid.py:118: UserWarning: The figure layout has changed to tight\n",
      "  self._figure.tight_layout(*args, **kwargs)\n"
     ]
    },
    {
     "data": {
      "text/plain": [
       "<Figure size 500x2000 with 0 Axes>"
      ]
     },
     "metadata": {},
     "output_type": "display_data"
    },
    {
     "data": {
      "image/png": "[encoded data removed]",
      "text/plain": [
       "<Figure size 500x500 with 1 Axes>"
      ]
     },
     "metadata": {},
     "output_type": "display_data"
    }
   ],
   "source": [
    "plt.figure(figsize=(5,20))\n",
    "sns.displot(data=train,x='VERB',kde=\"True\")\n",
    "plt.title('Number of Verbs')\n",
    "plt.show()"
   ]
  },
  {
   "cell_type": "code",
   "execution_count": 31,
   "id": "fe6de51c",
   "metadata": {
    "execution": {
     "iopub.execute_input": "2025-06-05T22:12:34.598991Z",
     "iopub.status.busy": "2025-06-05T22:12:34.598676Z",
     "iopub.status.idle": "2025-06-05T22:12:34.609664Z",
     "shell.execute_reply": "2025-06-05T22:12:34.608768Z"
    },
    "papermill": {
     "duration": 0.03181,
     "end_time": "2025-06-05T22:12:34.611221",
     "exception": false,
     "start_time": "2025-06-05T22:12:34.579411",
     "status": "completed"
    },
    "tags": []
   },
   "outputs": [],
   "source": [
    "train = train.fillna(0.0)\n",
    "test = test.fillna(0.0)"
   ]
  },
  {
   "cell_type": "markdown",
   "id": "c9d62191",
   "metadata": {
    "papermill": {
     "duration": 0.017465,
     "end_time": "2025-06-05T22:12:34.646551",
     "exception": false,
     "start_time": "2025-06-05T22:12:34.629086",
     "status": "completed"
    },
    "tags": []
   },
   "source": [
    "### Sentiment Polarity"
   ]
  },
  {
   "cell_type": "code",
   "execution_count": 32,
   "id": "f7209ef6",
   "metadata": {
    "execution": {
     "iopub.execute_input": "2025-06-05T22:12:34.683604Z",
     "iopub.status.busy": "2025-06-05T22:12:34.683254Z",
     "iopub.status.idle": "2025-06-05T22:12:34.688192Z",
     "shell.execute_reply": "2025-06-05T22:12:34.687224Z"
    },
    "papermill": {
     "duration": 0.025273,
     "end_time": "2025-06-05T22:12:34.689777",
     "exception": false,
     "start_time": "2025-06-05T22:12:34.664504",
     "status": "completed"
    },
    "tags": []
   },
   "outputs": [],
   "source": [
    "def essay_polarity(text):\n",
    "    blob = TextBlob(text)\n",
    "    return blob.sentiment.polarity"
   ]
  },
  {
   "cell_type": "code",
   "execution_count": 33,
   "id": "01b5e3b9",
   "metadata": {
    "execution": {
     "iopub.execute_input": "2025-06-05T22:12:34.727370Z",
     "iopub.status.busy": "2025-06-05T22:12:34.727065Z",
     "iopub.status.idle": "2025-06-05T22:12:43.321016Z",
     "shell.execute_reply": "2025-06-05T22:12:43.320096Z"
    },
    "papermill": {
     "duration": 8.614994,
     "end_time": "2025-06-05T22:12:43.322783",
     "exception": false,
     "start_time": "2025-06-05T22:12:34.707789",
     "status": "completed"
    },
    "tags": []
   },
   "outputs": [],
   "source": [
    "var = 'polarity'\n",
    "train[var]=train['full_text'].apply(essay_polarity)\n",
    "test[var]=test['full_text'].apply(essay_polarity)"
   ]
  },
  {
   "cell_type": "markdown",
   "id": "aa7c2b94",
   "metadata": {
    "papermill": {
     "duration": 0.017491,
     "end_time": "2025-06-05T22:12:43.358665",
     "exception": false,
     "start_time": "2025-06-05T22:12:43.341174",
     "status": "completed"
    },
    "tags": []
   },
   "source": [
    "### Essay Subjectivity"
   ]
  },
  {
   "cell_type": "code",
   "execution_count": 34,
   "id": "992165de",
   "metadata": {
    "execution": {
     "iopub.execute_input": "2025-06-05T22:12:43.396327Z",
     "iopub.status.busy": "2025-06-05T22:12:43.396000Z",
     "iopub.status.idle": "2025-06-05T22:12:43.400984Z",
     "shell.execute_reply": "2025-06-05T22:12:43.399806Z"
    },
    "papermill": {
     "duration": 0.025464,
     "end_time": "2025-06-05T22:12:43.402521",
     "exception": false,
     "start_time": "2025-06-05T22:12:43.377057",
     "status": "completed"
    },
    "tags": []
   },
   "outputs": [],
   "source": [
    "def essay_subjectivity(text):\n",
    "    blob = TextBlob(text)\n",
    "    return blob.sentiment.subjectivity"
   ]
  },
  {
   "cell_type": "code",
   "execution_count": 35,
   "id": "6479b11d",
   "metadata": {
    "execution": {
     "iopub.execute_input": "2025-06-05T22:12:43.440327Z",
     "iopub.status.busy": "2025-06-05T22:12:43.440024Z",
     "iopub.status.idle": "2025-06-05T22:12:51.800171Z",
     "shell.execute_reply": "2025-06-05T22:12:51.799094Z"
    },
    "papermill": {
     "duration": 8.381512,
     "end_time": "2025-06-05T22:12:51.802132",
     "exception": false,
     "start_time": "2025-06-05T22:12:43.420620",
     "status": "completed"
    },
    "tags": []
   },
   "outputs": [],
   "source": [
    "var = 'subjectivity'\n",
    "train[var]=train['full_text'].apply(essay_subjectivity)\n",
    "test[var]=test['full_text'].apply(essay_subjectivity)"
   ]
  },
  {
   "cell_type": "markdown",
   "id": "766c60f4",
   "metadata": {
    "papermill": {
     "duration": 0.017704,
     "end_time": "2025-06-05T22:12:51.837890",
     "exception": false,
     "start_time": "2025-06-05T22:12:51.820186",
     "status": "completed"
    },
    "tags": []
   },
   "source": [
    "### Grammar"
   ]
  },
  {
   "cell_type": "markdown",
   "id": "57b8fb02",
   "metadata": {
    "papermill": {
     "duration": 0.017564,
     "end_time": "2025-06-05T22:12:51.873549",
     "exception": false,
     "start_time": "2025-06-05T22:12:51.855985",
     "status": "completed"
    },
    "tags": []
   },
   "source": [
    "TextBlob(text).correct():\n",
    "\n",
    "\"I havv a dreem\" -> \"I have a dream\""
   ]
  },
  {
   "cell_type": "code",
   "execution_count": 36,
   "id": "843ffd65",
   "metadata": {
    "execution": {
     "iopub.execute_input": "2025-06-05T22:12:51.910766Z",
     "iopub.status.busy": "2025-06-05T22:12:51.910389Z",
     "iopub.status.idle": "2025-06-05T22:12:51.915330Z",
     "shell.execute_reply": "2025-06-05T22:12:51.914217Z"
    },
    "papermill": {
     "duration": 0.025619,
     "end_time": "2025-06-05T22:12:51.916898",
     "exception": false,
     "start_time": "2025-06-05T22:12:51.891279",
     "status": "completed"
    },
    "tags": []
   },
   "outputs": [],
   "source": [
    "def spell_similarity(text): \n",
    "    b = nlp(TextBlob(text).correct().string)\n",
    "    return nlp(text).similarity(b)"
   ]
  },
  {
   "cell_type": "code",
   "execution_count": 37,
   "id": "fe06540a",
   "metadata": {
    "execution": {
     "iopub.execute_input": "2025-06-05T22:12:51.953789Z",
     "iopub.status.busy": "2025-06-05T22:12:51.953391Z",
     "iopub.status.idle": "2025-06-05T23:35:01.115779Z",
     "shell.execute_reply": "2025-06-05T23:35:01.114682Z"
    },
    "papermill": {
     "duration": 4929.183248,
     "end_time": "2025-06-05T23:35:01.117879",
     "exception": false,
     "start_time": "2025-06-05T22:12:51.934631",
     "status": "completed"
    },
    "tags": []
   },
   "outputs": [
    {
     "data": {
      "application/vnd.jupyter.widget-view+json": {
       "model_id": "d476ada234d5412c837544f06f4644a9",
       "version_major": 2,
       "version_minor": 0
      },
      "text/plain": [
       "  0%|          | 0/3911 [00:00<?, ?it/s]"
      ]
     },
     "metadata": {},
     "output_type": "display_data"
    }
   ],
   "source": [
    "tqdm.pandas()\n",
    "\n",
    "train['spell_score'] = train['full_text'].progress_apply(spell_similarity)"
   ]
  },
  {
   "cell_type": "code",
   "execution_count": 38,
   "id": "32018b8b",
   "metadata": {
    "execution": {
     "iopub.execute_input": "2025-06-05T23:35:01.159610Z",
     "iopub.status.busy": "2025-06-05T23:35:01.159205Z",
     "iopub.status.idle": "2025-06-05T23:35:03.530572Z",
     "shell.execute_reply": "2025-06-05T23:35:03.529534Z"
    },
    "papermill": {
     "duration": 2.39439,
     "end_time": "2025-06-05T23:35:03.532179",
     "exception": false,
     "start_time": "2025-06-05T23:35:01.137789",
     "status": "completed"
    },
    "tags": []
   },
   "outputs": [
    {
     "data": {
      "application/vnd.jupyter.widget-view+json": {
       "model_id": "b048297a70f040c8967cbf2c9f7360b5",
       "version_major": 2,
       "version_minor": 0
      },
      "text/plain": [
       "  0%|          | 0/3 [00:00<?, ?it/s]"
      ]
     },
     "metadata": {},
     "output_type": "display_data"
    }
   ],
   "source": [
    "test['spell_score'] = test['full_text'].progress_apply(spell_similarity)"
   ]
  },
  {
   "cell_type": "markdown",
   "id": "b8eaa143",
   "metadata": {
    "papermill": {
     "duration": 0.018599,
     "end_time": "2025-06-05T23:35:03.569889",
     "exception": false,
     "start_time": "2025-06-05T23:35:03.551290",
     "status": "completed"
    },
    "tags": []
   },
   "source": [
    "### Sentence Statistics"
   ]
  },
  {
   "cell_type": "code",
   "execution_count": 39,
   "id": "6bee5ea9",
   "metadata": {
    "execution": {
     "iopub.execute_input": "2025-06-05T23:35:03.607463Z",
     "iopub.status.busy": "2025-06-05T23:35:03.607133Z",
     "iopub.status.idle": "2025-06-05T23:35:06.633181Z",
     "shell.execute_reply": "2025-06-05T23:35:06.631974Z"
    },
    "papermill": {
     "duration": 3.047105,
     "end_time": "2025-06-05T23:35:06.635067",
     "exception": false,
     "start_time": "2025-06-05T23:35:03.587962",
     "status": "completed"
    },
    "tags": []
   },
   "outputs": [],
   "source": [
    "def sentence_av_len_calc(text):\n",
    "    sentences = pd.Series(text.split(\".\"))\n",
    "    sent_len = sentences.apply(n_unique_words)\n",
    "    return np.mean(list(sent_len))\n",
    "\n",
    "train['av_sent_len']=train['full_text'].apply(sentence_av_len_calc)\n",
    "test['av_sent_len']=test['full_text'].apply(sentence_av_len_calc)"
   ]
  },
  {
   "cell_type": "code",
   "execution_count": 40,
   "id": "0efb9fb3",
   "metadata": {
    "execution": {
     "iopub.execute_input": "2025-06-05T23:35:06.673232Z",
     "iopub.status.busy": "2025-06-05T23:35:06.672878Z",
     "iopub.status.idle": "2025-06-05T23:35:09.710929Z",
     "shell.execute_reply": "2025-06-05T23:35:09.709784Z"
    },
    "papermill": {
     "duration": 3.059412,
     "end_time": "2025-06-05T23:35:09.712705",
     "exception": false,
     "start_time": "2025-06-05T23:35:06.653293",
     "status": "completed"
    },
    "tags": []
   },
   "outputs": [],
   "source": [
    "def sentence_max_len_calc(text):\n",
    "    sentences = pd.Series(text.split(\".\"))\n",
    "    sent_len = sentences.apply(n_unique_words)\n",
    "    return np.max(list(sent_len))\n",
    "\n",
    "train['max_sent_len']=train['full_text'].apply(sentence_max_len_calc)\n",
    "test['max_sent_len']=test['full_text'].apply(sentence_max_len_calc)"
   ]
  },
  {
   "cell_type": "code",
   "execution_count": 41,
   "id": "0b0bbd52",
   "metadata": {
    "execution": {
     "iopub.execute_input": "2025-06-05T23:35:09.764095Z",
     "iopub.status.busy": "2025-06-05T23:35:09.763026Z",
     "iopub.status.idle": "2025-06-05T23:35:12.831648Z",
     "shell.execute_reply": "2025-06-05T23:35:12.830736Z"
    },
    "papermill": {
     "duration": 3.102342,
     "end_time": "2025-06-05T23:35:12.833543",
     "exception": false,
     "start_time": "2025-06-05T23:35:09.731201",
     "status": "completed"
    },
    "tags": []
   },
   "outputs": [],
   "source": [
    "def sentence_min_len_calc(text):\n",
    "    sentences = pd.Series(text.split(\".\"))\n",
    "    sent_len = sentences.apply(n_unique_words)\n",
    "    return np.min(list(sent_len))\n",
    "\n",
    "train['min_sent_len']=train['full_text'].apply(sentence_min_len_calc)\n",
    "test['min_sent_len']=test['full_text'].apply(sentence_min_len_calc)"
   ]
  },
  {
   "cell_type": "code",
   "execution_count": 42,
   "id": "d3543bff",
   "metadata": {
    "execution": {
     "iopub.execute_input": "2025-06-05T23:35:12.871366Z",
     "iopub.status.busy": "2025-06-05T23:35:12.871084Z",
     "iopub.status.idle": "2025-06-05T23:35:15.976313Z",
     "shell.execute_reply": "2025-06-05T23:35:15.975005Z"
    },
    "papermill": {
     "duration": 3.126272,
     "end_time": "2025-06-05T23:35:15.978174",
     "exception": false,
     "start_time": "2025-06-05T23:35:12.851902",
     "status": "completed"
    },
    "tags": []
   },
   "outputs": [],
   "source": [
    "def sentence_median_len_calc(text):\n",
    "    sentences = pd.Series(text.split(\".\"))\n",
    "    sent_len = sentences.apply(n_unique_words)\n",
    "    return np.median(list(sent_len))\n",
    "\n",
    "train['med_sent_len']=train['full_text'].apply(sentence_median_len_calc)\n",
    "test['med_sent_len']=test['full_text'].apply(sentence_median_len_calc)"
   ]
  },
  {
   "cell_type": "code",
   "execution_count": 43,
   "id": "fb885f3e",
   "metadata": {
    "execution": {
     "iopub.execute_input": "2025-06-05T23:35:16.016028Z",
     "iopub.status.busy": "2025-06-05T23:35:16.015708Z",
     "iopub.status.idle": "2025-06-05T23:35:19.298719Z",
     "shell.execute_reply": "2025-06-05T23:35:19.297734Z"
    },
    "papermill": {
     "duration": 3.304114,
     "end_time": "2025-06-05T23:35:19.300534",
     "exception": false,
     "start_time": "2025-06-05T23:35:15.996420",
     "status": "completed"
    },
    "tags": []
   },
   "outputs": [],
   "source": [
    "def sentence_std_len_calc(text):\n",
    "    sentences = pd.Series(text.split(\".\"))\n",
    "    sent_len = sentences.apply(n_unique_words)\n",
    "    return np.std(list(sent_len))\n",
    "\n",
    "train['std_sent_len']=train['full_text'].apply(sentence_std_len_calc)\n",
    "test['std_sent_len']=test['full_text'].apply(sentence_std_len_calc)"
   ]
  },
  {
   "cell_type": "markdown",
   "id": "4955e01e",
   "metadata": {
    "papermill": {
     "duration": 0.017769,
     "end_time": "2025-06-05T23:35:19.336676",
     "exception": false,
     "start_time": "2025-06-05T23:35:19.318907",
     "status": "completed"
    },
    "tags": []
   },
   "source": [
    "### Number of sentences"
   ]
  },
  {
   "cell_type": "code",
   "execution_count": 44,
   "id": "ef3244e5",
   "metadata": {
    "execution": {
     "iopub.execute_input": "2025-06-05T23:35:19.374185Z",
     "iopub.status.busy": "2025-06-05T23:35:19.373884Z",
     "iopub.status.idle": "2025-06-05T23:35:19.378357Z",
     "shell.execute_reply": "2025-06-05T23:35:19.377375Z"
    },
    "papermill": {
     "duration": 0.025328,
     "end_time": "2025-06-05T23:35:19.379934",
     "exception": false,
     "start_time": "2025-06-05T23:35:19.354606",
     "status": "completed"
    },
    "tags": []
   },
   "outputs": [],
   "source": [
    "def sentence_count(text):\n",
    "    sentences = text.split(\".\")\n",
    "    return len(sentences)"
   ]
  },
  {
   "cell_type": "code",
   "execution_count": 45,
   "id": "0ffb5be9",
   "metadata": {
    "execution": {
     "iopub.execute_input": "2025-06-05T23:35:19.419017Z",
     "iopub.status.busy": "2025-06-05T23:35:19.418669Z",
     "iopub.status.idle": "2025-06-05T23:35:19.439904Z",
     "shell.execute_reply": "2025-06-05T23:35:19.438777Z"
    },
    "papermill": {
     "duration": 0.042667,
     "end_time": "2025-06-05T23:35:19.441717",
     "exception": false,
     "start_time": "2025-06-05T23:35:19.399050",
     "status": "completed"
    },
    "tags": []
   },
   "outputs": [],
   "source": [
    "train['num_sent']=train['full_text'].apply(sentence_count)\n",
    "test['num_sent']=test['full_text'].apply(sentence_count)"
   ]
  },
  {
   "cell_type": "code",
   "execution_count": 46,
   "id": "e01a36c4",
   "metadata": {
    "execution": {
     "iopub.execute_input": "2025-06-05T23:35:19.480155Z",
     "iopub.status.busy": "2025-06-05T23:35:19.479790Z",
     "iopub.status.idle": "2025-06-05T23:35:19.854273Z",
     "shell.execute_reply": "2025-06-05T23:35:19.853366Z"
    },
    "papermill": {
     "duration": 0.395986,
     "end_time": "2025-06-05T23:35:19.856045",
     "exception": false,
     "start_time": "2025-06-05T23:35:19.460059",
     "status": "completed"
    },
    "tags": []
   },
   "outputs": [
    {
     "name": "stderr",
     "output_type": "stream",
     "text": [
      "/usr/local/lib/python3.11/dist-packages/seaborn/_oldcore.py:1119: FutureWarning: use_inf_as_na option is deprecated and will be removed in a future version. Convert inf values to NaN before operating instead.\n",
      "  with pd.option_context('mode.use_inf_as_na', True):\n",
      "/usr/local/lib/python3.11/dist-packages/seaborn/axisgrid.py:118: UserWarning: The figure layout has changed to tight\n",
      "  self._figure.tight_layout(*args, **kwargs)\n"
     ]
    },
    {
     "data": {
      "text/plain": [
       "<Figure size 500x2000 with 0 Axes>"
      ]
     },
     "metadata": {},
     "output_type": "display_data"
    },
    {
     "data": {
      "image/png": "[encoded data removed]",
      "text/plain": [
       "<Figure size 500x500 with 1 Axes>"
      ]
     },
     "metadata": {},
     "output_type": "display_data"
    }
   ],
   "source": [
    "plt.figure(figsize=(5,20))\n",
    "sns.displot(data=train,x='num_sent',kde=\"True\")\n",
    "plt.title('Number of Sentences')\n",
    "plt.show()"
   ]
  },
  {
   "cell_type": "markdown",
   "id": "3317d210",
   "metadata": {
    "papermill": {
     "duration": 0.019198,
     "end_time": "2025-06-05T23:35:19.894676",
     "exception": false,
     "start_time": "2025-06-05T23:35:19.875478",
     "status": "completed"
    },
    "tags": []
   },
   "source": [
    "### Sentiment Scores"
   ]
  },
  {
   "cell_type": "code",
   "execution_count": 47,
   "id": "3f11265f",
   "metadata": {
    "execution": {
     "iopub.execute_input": "2025-06-05T23:35:19.933964Z",
     "iopub.status.busy": "2025-06-05T23:35:19.933644Z",
     "iopub.status.idle": "2025-06-05T23:35:51.953618Z",
     "shell.execute_reply": "2025-06-05T23:35:51.952596Z"
    },
    "papermill": {
     "duration": 32.06019,
     "end_time": "2025-06-05T23:35:51.973822",
     "exception": false,
     "start_time": "2025-06-05T23:35:19.913632",
     "status": "completed"
    },
    "tags": []
   },
   "outputs": [
    {
     "name": "stderr",
     "output_type": "stream",
     "text": [
      "[nltk_data] Error loading vader_lexicon: <urlopen error [Errno -3]\n",
      "[nltk_data]     Temporary failure in name resolution>\n"
     ]
    },
    {
     "data": {
      "text/plain": [
       "False"
      ]
     },
     "execution_count": 47,
     "metadata": {},
     "output_type": "execute_result"
    }
   ],
   "source": [
    "nltk.download('vader_lexicon', download_dir=download_dir)"
   ]
  },
  {
   "cell_type": "markdown",
   "id": "8b22315b",
   "metadata": {
    "papermill": {
     "duration": 0.018727,
     "end_time": "2025-06-05T23:35:52.011654",
     "exception": false,
     "start_time": "2025-06-05T23:35:51.992927",
     "status": "completed"
    },
    "tags": []
   },
   "source": [
    "sentiment scores: –4 (very negativ) and +4 (very positiv)."
   ]
  },
  {
   "cell_type": "code",
   "execution_count": 48,
   "id": "105f089a",
   "metadata": {
    "execution": {
     "iopub.execute_input": "2025-06-05T23:35:52.051569Z",
     "iopub.status.busy": "2025-06-05T23:35:52.051175Z",
     "iopub.status.idle": "2025-06-05T23:36:05.044574Z",
     "shell.execute_reply": "2025-06-05T23:36:05.043643Z"
    },
    "papermill": {
     "duration": 13.015739,
     "end_time": "2025-06-05T23:36:05.046304",
     "exception": false,
     "start_time": "2025-06-05T23:35:52.030565",
     "status": "completed"
    },
    "tags": []
   },
   "outputs": [
    {
     "data": {
      "application/vnd.jupyter.widget-view+json": {
       "model_id": "d7679eb90145474f825645cd811d4a0a",
       "version_major": 2,
       "version_minor": 0
      },
      "text/plain": [
       "  0%|          | 0/3911 [00:00<?, ?it/s]"
      ]
     },
     "metadata": {},
     "output_type": "display_data"
    },
    {
     "data": {
      "application/vnd.jupyter.widget-view+json": {
       "model_id": "4046cdfa090c40199e6c09842b8e33ae",
       "version_major": 2,
       "version_minor": 0
      },
      "text/plain": [
       "  0%|          | 0/3 [00:00<?, ?it/s]"
      ]
     },
     "metadata": {},
     "output_type": "display_data"
    }
   ],
   "source": [
    "def generate_sentiment_scores(data):\n",
    "    sid = SentimentIntensityAnalyzer()\n",
    "    neg=[]\n",
    "    pos=[]\n",
    "    neu=[]\n",
    "    comp=[]\n",
    "    for sentence in tqdm(data['full_text'].values): \n",
    "        sentence_sentiment_score = sid.polarity_scores(sentence)\n",
    "        comp.append(sentence_sentiment_score['compound'])\n",
    "        neg.append(sentence_sentiment_score['neg'])\n",
    "        pos.append(sentence_sentiment_score['pos'])\n",
    "        neu.append(sentence_sentiment_score['neu'])\n",
    "    return comp,neg,pos,neu\n",
    "train['compound'],train['negative'],train['positive'],train['neutral']=generate_sentiment_scores(train)\n",
    "test['compound'],test['negative'],test['positive'],test['neutral']=generate_sentiment_scores(test)"
   ]
  },
  {
   "cell_type": "code",
   "execution_count": 49,
   "id": "ff433242",
   "metadata": {
    "execution": {
     "iopub.execute_input": "2025-06-05T23:36:05.085992Z",
     "iopub.status.busy": "2025-06-05T23:36:05.085686Z",
     "iopub.status.idle": "2025-06-05T23:36:05.099232Z",
     "shell.execute_reply": "2025-06-05T23:36:05.098116Z"
    },
    "papermill": {
     "duration": 0.03526,
     "end_time": "2025-06-05T23:36:05.100881",
     "exception": false,
     "start_time": "2025-06-05T23:36:05.065621",
     "status": "completed"
    },
    "tags": []
   },
   "outputs": [
    {
     "data": {
      "text/html": [
       "<div>\n",
       "<style scoped>\n",
       "    .dataframe tbody tr th:only-of-type {\n",
       "        vertical-align: middle;\n",
       "    }\n",
       "\n",
       "    .dataframe tbody tr th {\n",
       "        vertical-align: top;\n",
       "    }\n",
       "\n",
       "    .dataframe thead th {\n",
       "        text-align: right;\n",
       "    }\n",
       "</style>\n",
       "<table border=\"1\" class=\"dataframe\">\n",
       "  <thead>\n",
       "    <tr style=\"text-align: right;\">\n",
       "      <th></th>\n",
       "      <th>full_text</th>\n",
       "      <th>compound</th>\n",
       "      <th>negative</th>\n",
       "      <th>positive</th>\n",
       "      <th>neutral</th>\n",
       "    </tr>\n",
       "  </thead>\n",
       "  <tbody>\n",
       "    <tr>\n",
       "      <th>0</th>\n",
       "      <td>i think that students would benefit from learn...</td>\n",
       "      <td>0.9363</td>\n",
       "      <td>0.051</td>\n",
       "      <td>0.099</td>\n",
       "      <td>0.850</td>\n",
       "    </tr>\n",
       "    <tr>\n",
       "      <th>1</th>\n",
       "      <td>when a problem is a change you have to let it ...</td>\n",
       "      <td>-0.9194</td>\n",
       "      <td>0.111</td>\n",
       "      <td>0.091</td>\n",
       "      <td>0.798</td>\n",
       "    </tr>\n",
       "    <tr>\n",
       "      <th>2</th>\n",
       "      <td>dear, principal  if u change the school policy...</td>\n",
       "      <td>0.9271</td>\n",
       "      <td>0.054</td>\n",
       "      <td>0.110</td>\n",
       "      <td>0.837</td>\n",
       "    </tr>\n",
       "    <tr>\n",
       "      <th>3</th>\n",
       "      <td>the best time in life is when you become yours...</td>\n",
       "      <td>0.9995</td>\n",
       "      <td>0.052</td>\n",
       "      <td>0.245</td>\n",
       "      <td>0.704</td>\n",
       "    </tr>\n",
       "    <tr>\n",
       "      <th>4</th>\n",
       "      <td>small act of kindness can impact in other peop...</td>\n",
       "      <td>0.9868</td>\n",
       "      <td>0.000</td>\n",
       "      <td>0.164</td>\n",
       "      <td>0.836</td>\n",
       "    </tr>\n",
       "  </tbody>\n",
       "</table>\n",
       "</div>"
      ],
      "text/plain": [
       "                                           full_text  compound  negative  \\\n",
       "0  i think that students would benefit from learn...    0.9363     0.051   \n",
       "1  when a problem is a change you have to let it ...   -0.9194     0.111   \n",
       "2  dear, principal  if u change the school policy...    0.9271     0.054   \n",
       "3  the best time in life is when you become yours...    0.9995     0.052   \n",
       "4  small act of kindness can impact in other peop...    0.9868     0.000   \n",
       "\n",
       "   positive  neutral  \n",
       "0     0.099    0.850  \n",
       "1     0.091    0.798  \n",
       "2     0.110    0.837  \n",
       "3     0.245    0.704  \n",
       "4     0.164    0.836  "
      ]
     },
     "metadata": {},
     "output_type": "display_data"
    }
   ],
   "source": [
    "display(train[['full_text', 'compound', 'negative', 'positive', 'neutral']].head(5))"
   ]
  },
  {
   "cell_type": "markdown",
   "id": "0a482d05",
   "metadata": {
    "papermill": {
     "duration": 0.019397,
     "end_time": "2025-06-05T23:36:05.141808",
     "exception": false,
     "start_time": "2025-06-05T23:36:05.122411",
     "status": "completed"
    },
    "tags": []
   },
   "source": [
    "### Character Length"
   ]
  },
  {
   "cell_type": "code",
   "execution_count": 50,
   "id": "89cc6b38",
   "metadata": {
    "execution": {
     "iopub.execute_input": "2025-06-05T23:36:05.182123Z",
     "iopub.status.busy": "2025-06-05T23:36:05.181764Z",
     "iopub.status.idle": "2025-06-05T23:36:05.284807Z",
     "shell.execute_reply": "2025-06-05T23:36:05.283836Z"
    },
    "papermill": {
     "duration": 0.125239,
     "end_time": "2025-06-05T23:36:05.286551",
     "exception": false,
     "start_time": "2025-06-05T23:36:05.161312",
     "status": "completed"
    },
    "tags": []
   },
   "outputs": [],
   "source": [
    "train['char_len']=train['full_text'].apply(lambda x:len(x.split()))\n",
    "test['char_len']=test['full_text'].apply(lambda x:len(x.split()))"
   ]
  },
  {
   "cell_type": "code",
   "execution_count": 51,
   "id": "cb96b2dd",
   "metadata": {
    "execution": {
     "iopub.execute_input": "2025-06-05T23:36:05.327336Z",
     "iopub.status.busy": "2025-06-05T23:36:05.326399Z",
     "iopub.status.idle": "2025-06-05T23:36:15.799319Z",
     "shell.execute_reply": "2025-06-05T23:36:15.798408Z"
    },
    "papermill": {
     "duration": 10.495482,
     "end_time": "2025-06-05T23:36:15.801348",
     "exception": false,
     "start_time": "2025-06-05T23:36:05.305866",
     "status": "completed"
    },
    "tags": []
   },
   "outputs": [],
   "source": [
    "processed_train = pd.DataFrame()\n",
    "processed_test = pd.DataFrame()\n",
    "processed_train[\"tokens\"] = train[\"full_text\"].apply(lambda s: word_tokenize(s))\n",
    "processed_test[\"tokens\"] = test[\"full_text\"].apply(lambda s: word_tokenize(s))\n",
    "processed_train[\"sentences\"] = train[\"full_text\"].apply(lambda s: nltk.sent_tokenize(s))\n",
    "processed_test[\"sentences\"] = test[\"full_text\"].apply(lambda s: nltk.sent_tokenize(s))"
   ]
  },
  {
   "cell_type": "markdown",
   "id": "f1e352a2",
   "metadata": {
    "papermill": {
     "duration": 0.019269,
     "end_time": "2025-06-05T23:36:15.840513",
     "exception": false,
     "start_time": "2025-06-05T23:36:15.821244",
     "status": "completed"
    },
    "tags": []
   },
   "source": [
    "### Word Diversity"
   ]
  },
  {
   "cell_type": "markdown",
   "id": "995627eb",
   "metadata": {
    "papermill": {
     "duration": 0.018886,
     "end_time": "2025-06-05T23:36:15.879141",
     "exception": false,
     "start_time": "2025-06-05T23:36:15.860255",
     "status": "completed"
    },
    "tags": []
   },
   "source": [
    "How many different words contains the text?"
   ]
  },
  {
   "cell_type": "code",
   "execution_count": 52,
   "id": "88b50e17",
   "metadata": {
    "execution": {
     "iopub.execute_input": "2025-06-05T23:36:15.918930Z",
     "iopub.status.busy": "2025-06-05T23:36:15.918576Z",
     "iopub.status.idle": "2025-06-05T23:36:16.040925Z",
     "shell.execute_reply": "2025-06-05T23:36:16.039855Z"
    },
    "papermill": {
     "duration": 0.144122,
     "end_time": "2025-06-05T23:36:16.042533",
     "exception": false,
     "start_time": "2025-06-05T23:36:15.898411",
     "status": "completed"
    },
    "tags": []
   },
   "outputs": [],
   "source": [
    "def lexical_diversity(tokens):\n",
    "    return len(set(tokens)) / max(len(tokens), 1)\n",
    "\n",
    "train[\"lex_diversity\"] = processed_train[\"tokens\"].apply(lexical_diversity)\n",
    "test[\"lex_diversity\"] = processed_test[\"tokens\"].apply(lexical_diversity)"
   ]
  },
  {
   "cell_type": "markdown",
   "id": "91a94d6c",
   "metadata": {
    "papermill": {
     "duration": 0.019637,
     "end_time": "2025-06-05T23:36:16.081880",
     "exception": false,
     "start_time": "2025-06-05T23:36:16.062243",
     "status": "completed"
    },
    "tags": []
   },
   "source": [
    "## TF-IDF"
   ]
  },
  {
   "cell_type": "markdown",
   "id": "ec210a37",
   "metadata": {
    "papermill": {
     "duration": 0.019121,
     "end_time": "2025-06-05T23:36:16.120158",
     "exception": false,
     "start_time": "2025-06-05T23:36:16.101037",
     "status": "completed"
    },
    "tags": []
   },
   "source": [
    "TF: term-frequency\n",
    "\n",
    "IDF: inversed-document-frequency"
   ]
  },
  {
   "attachments": {
    "image.png": {
     "image/png": "[encoded data removed]"
    }
   },
   "cell_type": "markdown",
   "id": "e210863b",
   "metadata": {
    "papermill": {
     "duration": 0.019204,
     "end_time": "2025-06-05T23:36:16.160372",
     "exception": false,
     "start_time": "2025-06-05T23:36:16.141168",
     "status": "completed"
    },
    "tags": []
   },
   "source": [
    "![image.png](attachment:image.png)"
   ]
  },
  {
   "cell_type": "code",
   "execution_count": 53,
   "id": "02185a25",
   "metadata": {
    "execution": {
     "iopub.execute_input": "2025-06-05T23:36:16.200377Z",
     "iopub.status.busy": "2025-06-05T23:36:16.200090Z",
     "iopub.status.idle": "2025-06-05T23:36:19.814806Z",
     "shell.execute_reply": "2025-06-05T23:36:19.813925Z"
    },
    "papermill": {
     "duration": 3.636752,
     "end_time": "2025-06-05T23:36:19.816463",
     "exception": false,
     "start_time": "2025-06-05T23:36:16.179711",
     "status": "completed"
    },
    "tags": []
   },
   "outputs": [],
   "source": [
    "tfidf = TfidfVectorizer(\n",
    "    ngram_range=(1,2),\n",
    "    max_features=10_000,\n",
    "    min_df=5\n",
    ")\n",
    "X_tfidf_train = tfidf.fit_transform(train['full_text'])\n",
    "X_tfidf_test = tfidf.transform(test['full_text'])"
   ]
  },
  {
   "cell_type": "code",
   "execution_count": 54,
   "id": "03239e10",
   "metadata": {
    "execution": {
     "iopub.execute_input": "2025-06-05T23:36:19.858204Z",
     "iopub.status.busy": "2025-06-05T23:36:19.857869Z",
     "iopub.status.idle": "2025-06-05T23:36:19.882205Z",
     "shell.execute_reply": "2025-06-05T23:36:19.881417Z"
    },
    "papermill": {
     "duration": 0.047825,
     "end_time": "2025-06-05T23:36:19.883995",
     "exception": false,
     "start_time": "2025-06-05T23:36:19.836170",
     "status": "completed"
    },
    "tags": []
   },
   "outputs": [],
   "source": [
    "tfidf_means = np.asarray(X_tfidf_train.mean(axis=0)).flatten()\n",
    "tfidf_features = tfidf.get_feature_names_out()"
   ]
  },
  {
   "cell_type": "code",
   "execution_count": 55,
   "id": "10c95e63",
   "metadata": {
    "execution": {
     "iopub.execute_input": "2025-06-05T23:36:19.925120Z",
     "iopub.status.busy": "2025-06-05T23:36:19.924789Z",
     "iopub.status.idle": "2025-06-05T23:36:20.454510Z",
     "shell.execute_reply": "2025-06-05T23:36:20.453459Z"
    },
    "papermill": {
     "duration": 0.552889,
     "end_time": "2025-06-05T23:36:20.456568",
     "exception": false,
     "start_time": "2025-06-05T23:36:19.903679",
     "status": "completed"
    },
    "tags": []
   },
   "outputs": [],
   "source": [
    "\n",
    "# Convert to DataFrame\n",
    "tfidf_df_train = pd.DataFrame(X_tfidf_train.toarray(), columns=tfidf_features, index=train.index)\n",
    "tfidf_df_test = pd.DataFrame(X_tfidf_test.toarray(), columns=tfidf_features, index=test.index)\n"
   ]
  },
  {
   "cell_type": "code",
   "execution_count": 56,
   "id": "17c20767",
   "metadata": {
    "execution": {
     "iopub.execute_input": "2025-06-05T23:36:20.497156Z",
     "iopub.status.busy": "2025-06-05T23:36:20.496870Z",
     "iopub.status.idle": "2025-06-05T23:36:21.456992Z",
     "shell.execute_reply": "2025-06-05T23:36:21.455942Z"
    },
    "papermill": {
     "duration": 0.982581,
     "end_time": "2025-06-05T23:36:21.458577",
     "exception": false,
     "start_time": "2025-06-05T23:36:20.475996",
     "status": "completed"
    },
    "tags": []
   },
   "outputs": [],
   "source": [
    "\n",
    "# Concatenate to original DataFrames\n",
    "train = pd.concat([train.reset_index(drop=True), tfidf_df_train.reset_index(drop=True)], axis=1)\n",
    "test = pd.concat([test.reset_index(drop=True), tfidf_df_test.reset_index(drop=True)], axis=1)"
   ]
  },
  {
   "cell_type": "code",
   "execution_count": 57,
   "id": "a78dbc52",
   "metadata": {
    "execution": {
     "iopub.execute_input": "2025-06-05T23:36:21.501604Z",
     "iopub.status.busy": "2025-06-05T23:36:21.501255Z",
     "iopub.status.idle": "2025-06-05T23:36:21.506794Z",
     "shell.execute_reply": "2025-06-05T23:36:21.505815Z"
    },
    "papermill": {
     "duration": 0.030325,
     "end_time": "2025-06-05T23:36:21.508577",
     "exception": false,
     "start_time": "2025-06-05T23:36:21.478252",
     "status": "completed"
    },
    "tags": []
   },
   "outputs": [],
   "source": [
    "\n",
    "\n",
    "# Top 20 Features\n",
    "top_n = 20\n",
    "top_indices = tfidf_means.argsort()[::-1][:top_n]\n",
    "top_features = [tfidf_features[i] for i in top_indices]\n",
    "top_values = tfidf_means[top_indices]"
   ]
  },
  {
   "cell_type": "code",
   "execution_count": 58,
   "id": "8d363ba7",
   "metadata": {
    "execution": {
     "iopub.execute_input": "2025-06-05T23:36:21.548519Z",
     "iopub.status.busy": "2025-06-05T23:36:21.548135Z",
     "iopub.status.idle": "2025-06-05T23:36:22.667215Z",
     "shell.execute_reply": "2025-06-05T23:36:22.666178Z"
    },
    "papermill": {
     "duration": 1.147229,
     "end_time": "2025-06-05T23:36:22.675160",
     "exception": false,
     "start_time": "2025-06-05T23:36:21.527931",
     "status": "completed"
    },
    "tags": []
   },
   "outputs": [
    {
     "data": {
      "image/png": "[encoded data removed]",
      "text/plain": [
       "<Figure size 1200x600 with 1 Axes>"
      ]
     },
     "metadata": {},
     "output_type": "display_data"
    }
   ],
   "source": [
    "# Dictionary: {feature_name: mean_tfidf_value}\n",
    "tfidf_dict = {tfidf_features[i]: tfidf_means[i] for i in range(len(tfidf_features))}\n",
    "\n",
    "wordcloud = WordCloud(width=800, height=400, background_color='white').generate_from_frequencies(tfidf_dict)\n",
    "\n",
    "plt.figure(figsize=(12, 6))\n",
    "plt.imshow(wordcloud, interpolation='bilinear')\n",
    "plt.axis(\"off\")\n",
    "plt.title(\"TF-IDF WordCloud\")\n",
    "plt.show()"
   ]
  },
  {
   "cell_type": "code",
   "execution_count": 59,
   "id": "69e49c30",
   "metadata": {
    "execution": {
     "iopub.execute_input": "2025-06-05T23:36:22.731898Z",
     "iopub.status.busy": "2025-06-05T23:36:22.731524Z",
     "iopub.status.idle": "2025-06-05T23:36:23.074341Z",
     "shell.execute_reply": "2025-06-05T23:36:23.073377Z"
    },
    "papermill": {
     "duration": 0.373147,
     "end_time": "2025-06-05T23:36:23.076035",
     "exception": false,
     "start_time": "2025-06-05T23:36:22.702888",
     "status": "completed"
    },
    "tags": []
   },
   "outputs": [
    {
     "data": {
      "image/png": "[encoded data removed]",
      "text/plain": [
       "<Figure size 1000x400 with 2 Axes>"
      ]
     },
     "metadata": {},
     "output_type": "display_data"
    }
   ],
   "source": [
    "n_docs = 5\n",
    "top_words = top_features[:10]  # Top 10 words\n",
    "\n",
    "top_word_indices = [np.where(tfidf_features == word)[0][0] for word in top_words]\n",
    "\n",
    "# extract TF-IDF-values \n",
    "subset = X_tfidf_train[:n_docs, top_word_indices].toarray()\n",
    "\n",
    "df_heat = pd.DataFrame(subset, columns=top_words)\n",
    "plt.figure(figsize=(10, 4))\n",
    "sns.heatmap(df_heat, annot=True, cmap=\"YlGnBu\")\n",
    "plt.title(\"TF-IDF Heatmap\")\n",
    "plt.xlabel(\"words\")\n",
    "plt.ylabel(\"document\")\n",
    "plt.show()"
   ]
  },
  {
   "cell_type": "markdown",
   "id": "626f73bd",
   "metadata": {
    "papermill": {
     "duration": 0.027293,
     "end_time": "2025-06-05T23:36:23.132994",
     "exception": false,
     "start_time": "2025-06-05T23:36:23.105701",
     "status": "completed"
    },
    "tags": []
   },
   "source": [
    "### Extract the labels"
   ]
  },
  {
   "cell_type": "code",
   "execution_count": 60,
   "id": "2f897da1",
   "metadata": {
    "execution": {
     "iopub.execute_input": "2025-06-05T23:36:23.190616Z",
     "iopub.status.busy": "2025-06-05T23:36:23.190264Z",
     "iopub.status.idle": "2025-06-05T23:36:23.200956Z",
     "shell.execute_reply": "2025-06-05T23:36:23.200041Z"
    },
    "papermill": {
     "duration": 0.041442,
     "end_time": "2025-06-05T23:36:23.202613",
     "exception": false,
     "start_time": "2025-06-05T23:36:23.161171",
     "status": "completed"
    },
    "tags": []
   },
   "outputs": [],
   "source": [
    "y_train=train[['cohesion','syntax','vocabulary','phraseology','grammar','conventions']]"
   ]
  },
  {
   "cell_type": "code",
   "execution_count": 61,
   "id": "922b34e1",
   "metadata": {
    "execution": {
     "iopub.execute_input": "2025-06-05T23:36:23.258851Z",
     "iopub.status.busy": "2025-06-05T23:36:23.258534Z",
     "iopub.status.idle": "2025-06-05T23:36:55.966699Z",
     "shell.execute_reply": "2025-06-05T23:36:55.965715Z"
    },
    "papermill": {
     "duration": 32.73834,
     "end_time": "2025-06-05T23:36:55.968532",
     "exception": false,
     "start_time": "2025-06-05T23:36:23.230192",
     "status": "completed"
    },
    "tags": []
   },
   "outputs": [],
   "source": [
    "train.to_csv('/kaggle/working/train_vars.csv', index=False)\n",
    "y_train.to_csv('/kaggle/working/train_y_vars.csv', index=False)\n",
    "test.to_csv('/kaggle/working/test_vars.csv', index=False)"
   ]
  },
  {
   "cell_type": "code",
   "execution_count": 62,
   "id": "2056efef",
   "metadata": {
    "execution": {
     "iopub.execute_input": "2025-06-05T23:36:56.026495Z",
     "iopub.status.busy": "2025-06-05T23:36:56.026128Z",
     "iopub.status.idle": "2025-06-05T23:36:56.082224Z",
     "shell.execute_reply": "2025-06-05T23:36:56.081298Z"
    },
    "papermill": {
     "duration": 0.087552,
     "end_time": "2025-06-05T23:36:56.083821",
     "exception": false,
     "start_time": "2025-06-05T23:36:55.996269",
     "status": "completed"
    },
    "tags": []
   },
   "outputs": [
    {
     "data": {
      "text/html": [
       "<div>\n",
       "<style scoped>\n",
       "    .dataframe tbody tr th:only-of-type {\n",
       "        vertical-align: middle;\n",
       "    }\n",
       "\n",
       "    .dataframe tbody tr th {\n",
       "        vertical-align: top;\n",
       "    }\n",
       "\n",
       "    .dataframe thead th {\n",
       "        text-align: right;\n",
       "    }\n",
       "</style>\n",
       "<table border=\"1\" class=\"dataframe\">\n",
       "  <thead>\n",
       "    <tr style=\"text-align: right;\">\n",
       "      <th></th>\n",
       "      <th>text_id</th>\n",
       "      <th>full_text</th>\n",
       "      <th>cohesion</th>\n",
       "      <th>syntax</th>\n",
       "      <th>vocabulary</th>\n",
       "      <th>phraseology</th>\n",
       "      <th>grammar</th>\n",
       "      <th>conventions</th>\n",
       "      <th>n_capital</th>\n",
       "      <th>n_punct</th>\n",
       "      <th>...</th>\n",
       "      <th>yourself if</th>\n",
       "      <th>yourself in</th>\n",
       "      <th>yourself is</th>\n",
       "      <th>yourself or</th>\n",
       "      <th>yourself that</th>\n",
       "      <th>yourself to</th>\n",
       "      <th>yourself you</th>\n",
       "      <th>youtube</th>\n",
       "      <th>zone</th>\n",
       "      <th>zoo</th>\n",
       "    </tr>\n",
       "  </thead>\n",
       "  <tbody>\n",
       "    <tr>\n",
       "      <th>0</th>\n",
       "      <td>0016926B079C</td>\n",
       "      <td>i think that students would benefit from learn...</td>\n",
       "      <td>3.5</td>\n",
       "      <td>3.5</td>\n",
       "      <td>3.0</td>\n",
       "      <td>3.0</td>\n",
       "      <td>4.0</td>\n",
       "      <td>3.0</td>\n",
       "      <td>1</td>\n",
       "      <td>25</td>\n",
       "      <td>...</td>\n",
       "      <td>0.0</td>\n",
       "      <td>0.000000</td>\n",
       "      <td>0.0</td>\n",
       "      <td>0.0</td>\n",
       "      <td>0.0</td>\n",
       "      <td>0.0</td>\n",
       "      <td>0.0</td>\n",
       "      <td>0.0</td>\n",
       "      <td>0.0</td>\n",
       "      <td>0.0</td>\n",
       "    </tr>\n",
       "    <tr>\n",
       "      <th>1</th>\n",
       "      <td>0022683E9EA5</td>\n",
       "      <td>when a problem is a change you have to let it ...</td>\n",
       "      <td>2.5</td>\n",
       "      <td>2.5</td>\n",
       "      <td>3.0</td>\n",
       "      <td>2.0</td>\n",
       "      <td>2.0</td>\n",
       "      <td>2.5</td>\n",
       "      <td>2</td>\n",
       "      <td>27</td>\n",
       "      <td>...</td>\n",
       "      <td>0.0</td>\n",
       "      <td>0.000000</td>\n",
       "      <td>0.0</td>\n",
       "      <td>0.0</td>\n",
       "      <td>0.0</td>\n",
       "      <td>0.0</td>\n",
       "      <td>0.0</td>\n",
       "      <td>0.0</td>\n",
       "      <td>0.0</td>\n",
       "      <td>0.0</td>\n",
       "    </tr>\n",
       "    <tr>\n",
       "      <th>2</th>\n",
       "      <td>00299B378633</td>\n",
       "      <td>dear, principal  if u change the school policy...</td>\n",
       "      <td>3.0</td>\n",
       "      <td>3.5</td>\n",
       "      <td>3.0</td>\n",
       "      <td>3.0</td>\n",
       "      <td>3.0</td>\n",
       "      <td>2.5</td>\n",
       "      <td>9</td>\n",
       "      <td>56</td>\n",
       "      <td>...</td>\n",
       "      <td>0.0</td>\n",
       "      <td>0.000000</td>\n",
       "      <td>0.0</td>\n",
       "      <td>0.0</td>\n",
       "      <td>0.0</td>\n",
       "      <td>0.0</td>\n",
       "      <td>0.0</td>\n",
       "      <td>0.0</td>\n",
       "      <td>0.0</td>\n",
       "      <td>0.0</td>\n",
       "    </tr>\n",
       "    <tr>\n",
       "      <th>3</th>\n",
       "      <td>003885A45F42</td>\n",
       "      <td>the best time in life is when you become yours...</td>\n",
       "      <td>4.5</td>\n",
       "      <td>4.5</td>\n",
       "      <td>4.5</td>\n",
       "      <td>4.5</td>\n",
       "      <td>4.0</td>\n",
       "      <td>5.0</td>\n",
       "      <td>9</td>\n",
       "      <td>166</td>\n",
       "      <td>...</td>\n",
       "      <td>0.0</td>\n",
       "      <td>0.093427</td>\n",
       "      <td>0.0</td>\n",
       "      <td>0.0</td>\n",
       "      <td>0.0</td>\n",
       "      <td>0.0</td>\n",
       "      <td>0.0</td>\n",
       "      <td>0.0</td>\n",
       "      <td>0.0</td>\n",
       "      <td>0.0</td>\n",
       "    </tr>\n",
       "    <tr>\n",
       "      <th>4</th>\n",
       "      <td>0049B1DF5CCC</td>\n",
       "      <td>small act of kindness can impact in other peop...</td>\n",
       "      <td>2.5</td>\n",
       "      <td>3.0</td>\n",
       "      <td>3.0</td>\n",
       "      <td>3.0</td>\n",
       "      <td>2.5</td>\n",
       "      <td>2.5</td>\n",
       "      <td>0</td>\n",
       "      <td>3</td>\n",
       "      <td>...</td>\n",
       "      <td>0.0</td>\n",
       "      <td>0.000000</td>\n",
       "      <td>0.0</td>\n",
       "      <td>0.0</td>\n",
       "      <td>0.0</td>\n",
       "      <td>0.0</td>\n",
       "      <td>0.0</td>\n",
       "      <td>0.0</td>\n",
       "      <td>0.0</td>\n",
       "      <td>0.0</td>\n",
       "    </tr>\n",
       "  </tbody>\n",
       "</table>\n",
       "<p>5 rows × 10047 columns</p>\n",
       "</div>"
      ],
      "text/plain": [
       "        text_id                                          full_text  cohesion  \\\n",
       "0  0016926B079C  i think that students would benefit from learn...       3.5   \n",
       "1  0022683E9EA5  when a problem is a change you have to let it ...       2.5   \n",
       "2  00299B378633  dear, principal  if u change the school policy...       3.0   \n",
       "3  003885A45F42  the best time in life is when you become yours...       4.5   \n",
       "4  0049B1DF5CCC  small act of kindness can impact in other peop...       2.5   \n",
       "\n",
       "   syntax  vocabulary  phraseology  grammar  conventions  n_capital  n_punct  \\\n",
       "0     3.5         3.0          3.0      4.0          3.0          1       25   \n",
       "1     2.5         3.0          2.0      2.0          2.5          2       27   \n",
       "2     3.5         3.0          3.0      3.0          2.5          9       56   \n",
       "3     4.5         4.5          4.5      4.0          5.0          9      166   \n",
       "4     3.0         3.0          3.0      2.5          2.5          0        3   \n",
       "\n",
       "   ...  yourself if  yourself in  yourself is  yourself or  yourself that  \\\n",
       "0  ...          0.0     0.000000          0.0          0.0            0.0   \n",
       "1  ...          0.0     0.000000          0.0          0.0            0.0   \n",
       "2  ...          0.0     0.000000          0.0          0.0            0.0   \n",
       "3  ...          0.0     0.093427          0.0          0.0            0.0   \n",
       "4  ...          0.0     0.000000          0.0          0.0            0.0   \n",
       "\n",
       "   yourself to  yourself you  youtube  zone  zoo  \n",
       "0          0.0           0.0      0.0   0.0  0.0  \n",
       "1          0.0           0.0      0.0   0.0  0.0  \n",
       "2          0.0           0.0      0.0   0.0  0.0  \n",
       "3          0.0           0.0      0.0   0.0  0.0  \n",
       "4          0.0           0.0      0.0   0.0  0.0  \n",
       "\n",
       "[5 rows x 10047 columns]"
      ]
     },
     "metadata": {},
     "output_type": "display_data"
    }
   ],
   "source": [
    "display(train.head(5))"
   ]
  },
  {
   "cell_type": "code",
   "execution_count": 63,
   "id": "c4541883",
   "metadata": {
    "execution": {
     "iopub.execute_input": "2025-06-05T23:36:56.141721Z",
     "iopub.status.busy": "2025-06-05T23:36:56.140994Z",
     "iopub.status.idle": "2025-06-05T23:36:56.147430Z",
     "shell.execute_reply": "2025-06-05T23:36:56.146256Z"
    },
    "papermill": {
     "duration": 0.037313,
     "end_time": "2025-06-05T23:36:56.149134",
     "exception": false,
     "start_time": "2025-06-05T23:36:56.111821",
     "status": "completed"
    },
    "tags": []
   },
   "outputs": [
    {
     "data": {
      "text/plain": [
       "Index(['text_id', 'full_text', 'cohesion', 'syntax', 'vocabulary',\n",
       "       'phraseology', 'grammar', 'conventions', 'n_capital', 'n_punct',\n",
       "       ...\n",
       "       'yourself if', 'yourself in', 'yourself is', 'yourself or',\n",
       "       'yourself that', 'yourself to', 'yourself you', 'youtube', 'zone',\n",
       "       'zoo'],\n",
       "      dtype='object', length=10047)"
      ]
     },
     "execution_count": 63,
     "metadata": {},
     "output_type": "execute_result"
    }
   ],
   "source": [
    "train.columns"
   ]
  },
  {
   "cell_type": "code",
   "execution_count": 64,
   "id": "829c0eb1",
   "metadata": {
    "execution": {
     "iopub.execute_input": "2025-06-05T23:36:56.206212Z",
     "iopub.status.busy": "2025-06-05T23:36:56.205901Z",
     "iopub.status.idle": "2025-06-05T23:37:07.694251Z",
     "shell.execute_reply": "2025-06-05T23:37:07.692956Z"
    },
    "papermill": {
     "duration": 11.518731,
     "end_time": "2025-06-05T23:37:07.696066",
     "exception": false,
     "start_time": "2025-06-05T23:36:56.177335",
     "status": "completed"
    },
    "tags": []
   },
   "outputs": [
    {
     "name": "stdout",
     "output_type": "stream",
     "text": [
      "           text_id                                          full_text  \\\n",
      "0     0016926B079C  i think that students would benefit from learn...   \n",
      "1     0022683E9EA5  when a problem is a change you have to let it ...   \n",
      "2     00299B378633  dear, principal  if u change the school policy...   \n",
      "3     003885A45F42  the best time in life is when you become yours...   \n",
      "4     0049B1DF5CCC  small act of kindness can impact in other peop...   \n",
      "...            ...                                                ...   \n",
      "3906  FFD29828A873  i believe using cellphones in class for educat...   \n",
      "3907  FFD9A83B0849  working alone, students do not have to argue w...   \n",
      "3908  FFDC4011AC9C  \"a problem is a chance for you to do your best...   \n",
      "3909  FFE16D704B16  many people disagree with albert schweitzer's ...   \n",
      "3910  FFED00D6E0BD  do you think that failure is the main thing fo...   \n",
      "\n",
      "      cohesion  syntax  vocabulary  phraseology  grammar  conventions  \\\n",
      "0          3.5     3.5         3.0          3.0      4.0          3.0   \n",
      "1          2.5     2.5         3.0          2.0      2.0          2.5   \n",
      "2          3.0     3.5         3.0          3.0      3.0          2.5   \n",
      "3          4.5     4.5         4.5          4.5      4.0          5.0   \n",
      "4          2.5     3.0         3.0          3.0      2.5          2.5   \n",
      "...        ...     ...         ...          ...      ...          ...   \n",
      "3906       2.5     3.0         3.0          3.5      2.5          2.5   \n",
      "3907       4.0     4.0         4.0          4.0      3.5          3.0   \n",
      "3908       2.5     3.0         3.0          3.0      3.5          3.0   \n",
      "3909       4.0     4.5         4.5          4.0      4.5          4.5   \n",
      "3910       3.5     2.5         3.5          3.0      3.0          3.5   \n",
      "\n",
      "      n_capital  n_punct  ...  yourself if  yourself in  yourself is  \\\n",
      "0             1       25  ...          0.0     0.000000          0.0   \n",
      "1             2       27  ...          0.0     0.000000          0.0   \n",
      "2             9       56  ...          0.0     0.000000          0.0   \n",
      "3             9      166  ...          0.0     0.093427          0.0   \n",
      "4             0        3  ...          0.0     0.000000          0.0   \n",
      "...         ...      ...  ...          ...          ...          ...   \n",
      "3906          4       15  ...          0.0     0.000000          0.0   \n",
      "3907          2       39  ...          0.0     0.000000          0.0   \n",
      "3908          4       23  ...          0.0     0.000000          0.0   \n",
      "3909          0       68  ...          0.0     0.000000          0.0   \n",
      "3910          2       72  ...          0.0     0.000000          0.0   \n",
      "\n",
      "      yourself or  yourself that  yourself to  yourself you  youtube  zone  \\\n",
      "0             0.0            0.0     0.000000           0.0      0.0   0.0   \n",
      "1             0.0            0.0     0.000000           0.0      0.0   0.0   \n",
      "2             0.0            0.0     0.000000           0.0      0.0   0.0   \n",
      "3             0.0            0.0     0.000000           0.0      0.0   0.0   \n",
      "4             0.0            0.0     0.000000           0.0      0.0   0.0   \n",
      "...           ...            ...          ...           ...      ...   ...   \n",
      "3906          0.0            0.0     0.000000           0.0      0.0   0.0   \n",
      "3907          0.0            0.0     0.000000           0.0      0.0   0.0   \n",
      "3908          0.0            0.0     0.000000           0.0      0.0   0.0   \n",
      "3909          0.0            0.0     0.000000           0.0      0.0   0.0   \n",
      "3910          0.0            0.0     0.026229           0.0      0.0   0.0   \n",
      "\n",
      "      zoo  \n",
      "0     0.0  \n",
      "1     0.0  \n",
      "2     0.0  \n",
      "3     0.0  \n",
      "4     0.0  \n",
      "...   ...  \n",
      "3906  0.0  \n",
      "3907  0.0  \n",
      "3908  0.0  \n",
      "3909  0.0  \n",
      "3910  0.0  \n",
      "\n",
      "[3911 rows x 10047 columns]\n"
     ]
    }
   ],
   "source": [
    "df_train = pd.read_csv(\"/kaggle/working/train_vars.csv\")\n",
    "df_test = pd.read_csv(\"/kaggle/working/test_vars.csv\")\n",
    "print(df_train)"
   ]
  },
  {
   "cell_type": "code",
   "execution_count": 65,
   "id": "0487861b",
   "metadata": {
    "execution": {
     "iopub.execute_input": "2025-06-05T23:37:07.753673Z",
     "iopub.status.busy": "2025-06-05T23:37:07.753316Z",
     "iopub.status.idle": "2025-06-05T23:37:07.757869Z",
     "shell.execute_reply": "2025-06-05T23:37:07.756895Z"
    },
    "papermill": {
     "duration": 0.035308,
     "end_time": "2025-06-05T23:37:07.759290",
     "exception": false,
     "start_time": "2025-06-05T23:37:07.723982",
     "status": "completed"
    },
    "tags": []
   },
   "outputs": [],
   "source": [
    "label_cols = ['cohesion', 'syntax', 'vocabulary', 'phraseology', 'grammar', 'conventions']"
   ]
  },
  {
   "cell_type": "code",
   "execution_count": 66,
   "id": "32009633",
   "metadata": {
    "execution": {
     "iopub.execute_input": "2025-06-05T23:37:07.816716Z",
     "iopub.status.busy": "2025-06-05T23:37:07.816355Z",
     "iopub.status.idle": "2025-06-05T23:37:07.827869Z",
     "shell.execute_reply": "2025-06-05T23:37:07.826925Z"
    },
    "papermill": {
     "duration": 0.04188,
     "end_time": "2025-06-05T23:37:07.829285",
     "exception": false,
     "start_time": "2025-06-05T23:37:07.787405",
     "status": "completed"
    },
    "tags": []
   },
   "outputs": [],
   "source": [
    "feature_cols = df_train.columns.difference(['text_id', 'full_text'] + label_cols).tolist()"
   ]
  },
  {
   "cell_type": "code",
   "execution_count": 67,
   "id": "2359be31",
   "metadata": {
    "execution": {
     "iopub.execute_input": "2025-06-05T23:37:07.887241Z",
     "iopub.status.busy": "2025-06-05T23:37:07.886906Z",
     "iopub.status.idle": "2025-06-05T23:37:08.130599Z",
     "shell.execute_reply": "2025-06-05T23:37:08.129823Z"
    },
    "papermill": {
     "duration": 0.274437,
     "end_time": "2025-06-05T23:37:08.132297",
     "exception": false,
     "start_time": "2025-06-05T23:37:07.857860",
     "status": "completed"
    },
    "tags": []
   },
   "outputs": [],
   "source": [
    "df_train = df_train.dropna()\n",
    "df_test = df_test.dropna()"
   ]
  },
  {
   "cell_type": "code",
   "execution_count": 68,
   "id": "614c03b4",
   "metadata": {
    "execution": {
     "iopub.execute_input": "2025-06-05T23:37:08.190564Z",
     "iopub.status.busy": "2025-06-05T23:37:08.190207Z",
     "iopub.status.idle": "2025-06-05T23:37:08.195842Z",
     "shell.execute_reply": "2025-06-05T23:37:08.194900Z"
    },
    "papermill": {
     "duration": 0.03649,
     "end_time": "2025-06-05T23:37:08.197402",
     "exception": false,
     "start_time": "2025-06-05T23:37:08.160912",
     "status": "completed"
    },
    "tags": []
   },
   "outputs": [],
   "source": [
    "class MCRMSELoss(nn.Module):\n",
    "    def __init__(self):\n",
    "        super().__init__()\n",
    "        self.mse = nn.MSELoss(reduction='none')\n",
    "\n",
    "    def forward(self, preds, targets):\n",
    "        colwise_mse = self.mse(preds, targets).mean(dim=0)\n",
    "        colwise_rmse = torch.sqrt(colwise_mse + 1e-8)\n",
    "        return colwise_rmse.mean()"
   ]
  },
  {
   "cell_type": "code",
   "execution_count": 69,
   "id": "a5ff6c1f",
   "metadata": {
    "execution": {
     "iopub.execute_input": "2025-06-05T23:37:08.255493Z",
     "iopub.status.busy": "2025-06-05T23:37:08.255160Z",
     "iopub.status.idle": "2025-06-05T23:42:45.510697Z",
     "shell.execute_reply": "2025-06-05T23:42:45.509749Z"
    },
    "papermill": {
     "duration": 337.315322,
     "end_time": "2025-06-05T23:42:45.541235",
     "exception": false,
     "start_time": "2025-06-05T23:37:08.225913",
     "status": "completed"
    },
    "tags": []
   },
   "outputs": [
    {
     "name": "stdout",
     "output_type": "stream",
     "text": [
      "Evaluation mit MCRMSE: 0.5510\n"
     ]
    }
   ],
   "source": [
    "X = df_train[feature_cols]\n",
    "y_all = df_train[label_cols]\n",
    "\n",
    "# Train/Test Split\n",
    "X_train, X_test, y_train, y_test = train_test_split(\n",
    "    X, y_all, test_size=0.2, random_state=42\n",
    ")\n",
    "\n",
    "# train model\n",
    "model = RandomForestRegressor(n_estimators=100, random_state=42)\n",
    "model.fit(X_train, y_train)\n",
    "\n",
    "y_pred = model.predict(X_test)\n",
    "\n",
    "# convert in torch.Tensor \n",
    "y_pred_tensor = torch.tensor(y_pred, dtype=torch.float32)\n",
    "y_test_tensor = torch.tensor(y_test.values, dtype=torch.float32) \n",
    "\n",
    "# calculate MCRMSE \n",
    "mcrmse_loss = MCRMSELoss()\n",
    "loss_value = mcrmse_loss(y_pred_tensor, y_test_tensor)\n",
    "\n",
    "print(f\"Evaluation mit MCRMSE: {loss_value.item():.4f}\")"
   ]
  },
  {
   "cell_type": "code",
   "execution_count": 70,
   "id": "c38a1e45",
   "metadata": {
    "execution": {
     "iopub.execute_input": "2025-06-05T23:42:45.599353Z",
     "iopub.status.busy": "2025-06-05T23:42:45.598418Z",
     "iopub.status.idle": "2025-06-05T23:42:45.787402Z",
     "shell.execute_reply": "2025-06-05T23:42:45.786320Z"
    },
    "papermill": {
     "duration": 0.219831,
     "end_time": "2025-06-05T23:42:45.789162",
     "exception": false,
     "start_time": "2025-06-05T23:42:45.569331",
     "status": "completed"
    },
    "tags": []
   },
   "outputs": [],
   "source": [
    "X_submission = df_test[feature_cols]\n",
    "\n",
    "submission_preds = model.predict(X_submission)\n",
    "\n",
    "submission_df = pd.DataFrame(submission_preds, columns=label_cols)\n",
    "submission_df[\"text_id\"] = df_test[\"text_id\"]  # text_id hinzufügen\n",
    "submission_df = submission_df[[\"text_id\"] + label_cols]  # Spalten sortieren\n",
    "\n",
    "submission_df.to_csv(\"submission.csv\", index=False)"
   ]
  },
  {
   "cell_type": "code",
   "execution_count": null,
   "id": "216394c7",
   "metadata": {
    "papermill": {
     "duration": 0.028299,
     "end_time": "2025-06-05T23:42:45.845608",
     "exception": false,
     "start_time": "2025-06-05T23:42:45.817309",
     "status": "completed"
    },
    "tags": []
   },
   "outputs": [],
   "source": []
  }
 ],
 "metadata": {
  "kaggle": {
   "accelerator": "none",
   "dataSources": [
    {
     "databundleVersionId": 4196674,
     "isSourceIdPinned": false,
     "sourceId": 38321,
     "sourceType": "competition"
    },
    {
     "datasetId": 7600487,
     "sourceId": 12074281,
     "sourceType": "datasetVersion"
    }
   ],
   "dockerImageVersionId": 31040,
   "isGpuEnabled": false,
   "isInternetEnabled": false,
   "language": "python",
   "sourceType": "notebook"
  },
  "kernelspec": {
   "display_name": "Python 3",
   "language": "python",
   "name": "python3"
  },
  "language_info": {
   "codemirror_mode": {
    "name": "ipython",
    "version": 3
   },
   "file_extension": ".py",
   "mimetype": "text/x-python",
   "name": "python",
   "nbconvert_exporter": "python",
   "pygments_lexer": "ipython3",
   "version": "3.11.11"
  },
  "papermill": {
   "default_parameters": {},
   "duration": 5887.610257,
   "end_time": "2025-06-05T23:42:49.063996",
   "environment_variables": {},
   "exception": null,
   "input_path": "__notebook__.ipynb",
   "output_path": "__notebook__.ipynb",
   "parameters": {},
   "start_time": "2025-06-05T22:04:41.453739",
   "version": "2.6.0"
  },
  "widgets": {
   "application/vnd.jupyter.widget-state+json": {
    "state": {
     "0583daa9309b4420a072852aed5dfab0": {
      "model_module": "@jupyter-widgets/base",
      "model_module_version": "2.0.0",
      "model_name": "LayoutModel",
      "state": {
       "_model_module": "@jupyter-widgets/base",
       "_model_module_version": "2.0.0",
       "_model_name": "LayoutModel",
       "_view_count": null,
       "_view_module": "@jupyter-widgets/base",
       "_view_module_version": "2.0.0",
       "_view_name": "LayoutView",
       "align_content": null,
       "align_items": null,
       "align_self": null,
       "border_bottom": null,
       "border_left": null,
       "border_right": null,
       "border_top": null,
       "bottom": null,
       "display": null,
       "flex": null,
       "flex_flow": null,
       "grid_area": null,
       "grid_auto_columns": null,
       "grid_auto_flow": null,
       "grid_auto_rows": null,
       "grid_column": null,
       "grid_gap": null,
       "grid_row": null,
       "grid_template_areas": null,
       "grid_template_columns": null,
       "grid_template_rows": null,
       "height": null,
       "justify_content": null,
       "justify_items": null,
       "left": null,
       "margin": null,
       "max_height": null,
       "max_width": null,
       "min_height": null,
       "min_width": null,
       "object_fit": null,
       "object_position": null,
       "order": null,
       "overflow": null,
       "padding": null,
       "right": null,
       "top": null,
       "visibility": null,
       "width": null
      }
     },
     "11856abb9de74492837d72b1380f7809": {
      "model_module": "@jupyter-widgets/base",
      "model_module_version": "2.0.0",
      "model_name": "LayoutModel",
      "state": {
       "_model_module": "@jupyter-widgets/base",
       "_model_module_version": "2.0.0",
       "_model_name": "LayoutModel",
       "_view_count": null,
       "_view_module": "@jupyter-widgets/base",
       "_view_module_version": "2.0.0",
       "_view_name": "LayoutView",
       "align_content": null,
       "align_items": null,
       "align_self": null,
       "border_bottom": null,
       "border_left": null,
       "border_right": null,
       "border_top": null,
       "bottom": null,
       "display": null,
       "flex": null,
       "flex_flow": null,
       "grid_area": null,
       "grid_auto_columns": null,
       "grid_auto_flow": null,
       "grid_auto_rows": null,
       "grid_column": null,
       "grid_gap": null,
       "grid_row": null,
       "grid_template_areas": null,
       "grid_template_columns": null,
       "grid_template_rows": null,
       "height": null,
       "justify_content": null,
       "justify_items": null,
       "left": null,
       "margin": null,
       "max_height": null,
       "max_width": null,
       "min_height": null,
       "min_width": null,
       "object_fit": null,
       "object_position": null,
       "order": null,
       "overflow": null,
       "padding": null,
       "right": null,
       "top": null,
       "visibility": null,
       "width": null
      }
     },
     "13707fdb7783436ab3acb98e48734cd4": {
      "model_module": "@jupyter-widgets/controls",
      "model_module_version": "2.0.0",
      "model_name": "FloatProgressModel",
      "state": {
       "_dom_classes": [],
       "_model_module": "@jupyter-widgets/controls",
       "_model_module_version": "2.0.0",
       "_model_name": "FloatProgressModel",
       "_view_count": null,
       "_view_module": "@jupyter-widgets/controls",
       "_view_module_version": "2.0.0",
       "_view_name": "ProgressView",
       "bar_style": "success",
       "description": "",
       "description_allow_html": false,
       "layout": "IPY_MODEL_6f5a7839ed6646feb715d2609bf7441c",
       "max": 3.0,
       "min": 0.0,
       "orientation": "horizontal",
       "style": "IPY_MODEL_e4f7c14bea7d49ff912574728f9b1246",
       "tabbable": null,
       "tooltip": null,
       "value": 3.0
      }
     },
     "15fc1a1bf8e0418c890a9eafcfb3d962": {
      "model_module": "@jupyter-widgets/controls",
      "model_module_version": "2.0.0",
      "model_name": "HTMLModel",
      "state": {
       "_dom_classes": [],
       "_model_module": "@jupyter-widgets/controls",
       "_model_module_version": "2.0.0",
       "_model_name": "HTMLModel",
       "_view_count": null,
       "_view_module": "@jupyter-widgets/controls",
       "_view_module_version": "2.0.0",
       "_view_name": "HTMLView",
       "description": "",
       "description_allow_html": false,
       "layout": "IPY_MODEL_0583daa9309b4420a072852aed5dfab0",
       "placeholder": "​",
       "style": "IPY_MODEL_58a49a978d4842a4873173a5b0617f5b",
       "tabbable": null,
       "tooltip": null,
       "value": " 3/3 [00:02&lt;00:00,  1.72it/s]"
      }
     },
     "195d9ccc33e04c779e157fb6b1a00e03": {
      "model_module": "@jupyter-widgets/controls",
      "model_module_version": "2.0.0",
      "model_name": "FloatProgressModel",
      "state": {
       "_dom_classes": [],
       "_model_module": "@jupyter-widgets/controls",
       "_model_module_version": "2.0.0",
       "_model_name": "FloatProgressModel",
       "_view_count": null,
       "_view_module": "@jupyter-widgets/controls",
       "_view_module_version": "2.0.0",
       "_view_name": "ProgressView",
       "bar_style": "success",
       "description": "",
       "description_allow_html": false,
       "layout": "IPY_MODEL_6bb137be1c024995b23df0988e0a08c4",
       "max": 3.0,
       "min": 0.0,
       "orientation": "horizontal",
       "style": "IPY_MODEL_622e7c06a66f4198b9ff88936fed84e0",
       "tabbable": null,
       "tooltip": null,
       "value": 3.0
      }
     },
     "2234f68aae604e9a84464f4a8fd1991c": {
      "model_module": "@jupyter-widgets/base",
      "model_module_version": "2.0.0",
      "model_name": "LayoutModel",
      "state": {
       "_model_module": "@jupyter-widgets/base",
       "_model_module_version": "2.0.0",
       "_model_name": "LayoutModel",
       "_view_count": null,
       "_view_module": "@jupyter-widgets/base",
       "_view_module_version": "2.0.0",
       "_view_name": "LayoutView",
       "align_content": null,
       "align_items": null,
       "align_self": null,
       "border_bottom": null,
       "border_left": null,
       "border_right": null,
       "border_top": null,
       "bottom": null,
       "display": null,
       "flex": null,
       "flex_flow": null,
       "grid_area": null,
       "grid_auto_columns": null,
       "grid_auto_flow": null,
       "grid_auto_rows": null,
       "grid_column": null,
       "grid_gap": null,
       "grid_row": null,
       "grid_template_areas": null,
       "grid_template_columns": null,
       "grid_template_rows": null,
       "height": null,
       "justify_content": null,
       "justify_items": null,
       "left": null,
       "margin": null,
       "max_height": null,
       "max_width": null,
       "min_height": null,
       "min_width": null,
       "object_fit": null,
       "object_position": null,
       "order": null,
       "overflow": null,
       "padding": null,
       "right": null,
       "top": null,
       "visibility": null,
       "width": null
      }
     },
     "27f4810f05414d6bac8c377ee4c8f82c": {
      "model_module": "@jupyter-widgets/controls",
      "model_module_version": "2.0.0",
      "model_name": "HTMLStyleModel",
      "state": {
       "_model_module": "@jupyter-widgets/controls",
       "_model_module_version": "2.0.0",
       "_model_name": "HTMLStyleModel",
       "_view_count": null,
       "_view_module": "@jupyter-widgets/base",
       "_view_module_version": "2.0.0",
       "_view_name": "StyleView",
       "background": null,
       "description_width": "",
       "font_size": null,
       "text_color": null
      }
     },
     "2905ceb4358e436ead81d0373c9b5010": {
      "model_module": "@jupyter-widgets/controls",
      "model_module_version": "2.0.0",
      "model_name": "HTMLModel",
      "state": {
       "_dom_classes": [],
       "_model_module": "@jupyter-widgets/controls",
       "_model_module_version": "2.0.0",
       "_model_name": "HTMLModel",
       "_view_count": null,
       "_view_module": "@jupyter-widgets/controls",
       "_view_module_version": "2.0.0",
       "_view_name": "HTMLView",
       "description": "",
       "description_allow_html": false,
       "layout": "IPY_MODEL_e3794e9cd1c24216977f5a3931949f32",
       "placeholder": "​",
       "style": "IPY_MODEL_872b3770901b44cb91d4e00f2a17f45f",
       "tabbable": null,
       "tooltip": null,
       "value": "100%"
      }
     },
     "2937fa62fd0542a8b020b401093bb4f0": {
      "model_module": "@jupyter-widgets/base",
      "model_module_version": "2.0.0",
      "model_name": "LayoutModel",
      "state": {
       "_model_module": "@jupyter-widgets/base",
       "_model_module_version": "2.0.0",
       "_model_name": "LayoutModel",
       "_view_count": null,
       "_view_module": "@jupyter-widgets/base",
       "_view_module_version": "2.0.0",
       "_view_name": "LayoutView",
       "align_content": null,
       "align_items": null,
       "align_self": null,
       "border_bottom": null,
       "border_left": null,
       "border_right": null,
       "border_top": null,
       "bottom": null,
       "display": null,
       "flex": null,
       "flex_flow": null,
       "grid_area": null,
       "grid_auto_columns": null,
       "grid_auto_flow": null,
       "grid_auto_rows": null,
       "grid_column": null,
       "grid_gap": null,
       "grid_row": null,
       "grid_template_areas": null,
       "grid_template_columns": null,
       "grid_template_rows": null,
       "height": null,
       "justify_content": null,
       "justify_items": null,
       "left": null,
       "margin": null,
       "max_height": null,
       "max_width": null,
       "min_height": null,
       "min_width": null,
       "object_fit": null,
       "object_position": null,
       "order": null,
       "overflow": null,
       "padding": null,
       "right": null,
       "top": null,
       "visibility": null,
       "width": null
      }
     },
     "2daee8b1fa16482fb7d147c0dc5064bd": {
      "model_module": "@jupyter-widgets/controls",
      "model_module_version": "2.0.0",
      "model_name": "ProgressStyleModel",
      "state": {
       "_model_module": "@jupyter-widgets/controls",
       "_model_module_version": "2.0.0",
       "_model_name": "ProgressStyleModel",
       "_view_count": null,
       "_view_module": "@jupyter-widgets/base",
       "_view_module_version": "2.0.0",
       "_view_name": "StyleView",
       "bar_color": null,
       "description_width": ""
      }
     },
     "335e6d033a5e4726a51c72ea7bcc3965": {
      "model_module": "@jupyter-widgets/base",
      "model_module_version": "2.0.0",
      "model_name": "LayoutModel",
      "state": {
       "_model_module": "@jupyter-widgets/base",
       "_model_module_version": "2.0.0",
       "_model_name": "LayoutModel",
       "_view_count": null,
       "_view_module": "@jupyter-widgets/base",
       "_view_module_version": "2.0.0",
       "_view_name": "LayoutView",
       "align_content": null,
       "align_items": null,
       "align_self": null,
       "border_bottom": null,
       "border_left": null,
       "border_right": null,
       "border_top": null,
       "bottom": null,
       "display": null,
       "flex": null,
       "flex_flow": null,
       "grid_area": null,
       "grid_auto_columns": null,
       "grid_auto_flow": null,
       "grid_auto_rows": null,
       "grid_column": null,
       "grid_gap": null,
       "grid_row": null,
       "grid_template_areas": null,
       "grid_template_columns": null,
       "grid_template_rows": null,
       "height": null,
       "justify_content": null,
       "justify_items": null,
       "left": null,
       "margin": null,
       "max_height": null,
       "max_width": null,
       "min_height": null,
       "min_width": null,
       "object_fit": null,
       "object_position": null,
       "order": null,
       "overflow": null,
       "padding": null,
       "right": null,
       "top": null,
       "visibility": null,
       "width": null
      }
     },
     "3887612212e24d7893c1b0ad6b1199be": {
      "model_module": "@jupyter-widgets/controls",
      "model_module_version": "2.0.0",
      "model_name": "HTMLStyleModel",
      "state": {
       "_model_module": "@jupyter-widgets/controls",
       "_model_module_version": "2.0.0",
       "_model_name": "HTMLStyleModel",
       "_view_count": null,
       "_view_module": "@jupyter-widgets/base",
       "_view_module_version": "2.0.0",
       "_view_name": "StyleView",
       "background": null,
       "description_width": "",
       "font_size": null,
       "text_color": null
      }
     },
     "4046cdfa090c40199e6c09842b8e33ae": {
      "model_module": "@jupyter-widgets/controls",
      "model_module_version": "2.0.0",
      "model_name": "HBoxModel",
      "state": {
       "_dom_classes": [],
       "_model_module": "@jupyter-widgets/controls",
       "_model_module_version": "2.0.0",
       "_model_name": "HBoxModel",
       "_view_count": null,
       "_view_module": "@jupyter-widgets/controls",
       "_view_module_version": "2.0.0",
       "_view_name": "HBoxView",
       "box_style": "",
       "children": [
        "IPY_MODEL_a3e9f309da06496986dada5b323c6255",
        "IPY_MODEL_195d9ccc33e04c779e157fb6b1a00e03",
        "IPY_MODEL_bed924f92a2e460089b7217656b788cb"
       ],
       "layout": "IPY_MODEL_2234f68aae604e9a84464f4a8fd1991c",
       "tabbable": null,
       "tooltip": null
      }
     },
     "58a49a978d4842a4873173a5b0617f5b": {
      "model_module": "@jupyter-widgets/controls",
      "model_module_version": "2.0.0",
      "model_name": "HTMLStyleModel",
      "state": {
       "_model_module": "@jupyter-widgets/controls",
       "_model_module_version": "2.0.0",
       "_model_name": "HTMLStyleModel",
       "_view_count": null,
       "_view_module": "@jupyter-widgets/base",
       "_view_module_version": "2.0.0",
       "_view_name": "StyleView",
       "background": null,
       "description_width": "",
       "font_size": null,
       "text_color": null
      }
     },
     "590204b91dea4afba9b8db79825bcce3": {
      "model_module": "@jupyter-widgets/controls",
      "model_module_version": "2.0.0",
      "model_name": "HTMLStyleModel",
      "state": {
       "_model_module": "@jupyter-widgets/controls",
       "_model_module_version": "2.0.0",
       "_model_name": "HTMLStyleModel",
       "_view_count": null,
       "_view_module": "@jupyter-widgets/base",
       "_view_module_version": "2.0.0",
       "_view_name": "StyleView",
       "background": null,
       "description_width": "",
       "font_size": null,
       "text_color": null
      }
     },
     "622e7c06a66f4198b9ff88936fed84e0": {
      "model_module": "@jupyter-widgets/controls",
      "model_module_version": "2.0.0",
      "model_name": "ProgressStyleModel",
      "state": {
       "_model_module": "@jupyter-widgets/controls",
       "_model_module_version": "2.0.0",
       "_model_name": "ProgressStyleModel",
       "_view_count": null,
       "_view_module": "@jupyter-widgets/base",
       "_view_module_version": "2.0.0",
       "_view_name": "StyleView",
       "bar_color": null,
       "description_width": ""
      }
     },
     "663e15fa3d9e4da3becd6ef2af0404f7": {
      "model_module": "@jupyter-widgets/controls",
      "model_module_version": "2.0.0",
      "model_name": "HTMLStyleModel",
      "state": {
       "_model_module": "@jupyter-widgets/controls",
       "_model_module_version": "2.0.0",
       "_model_name": "HTMLStyleModel",
       "_view_count": null,
       "_view_module": "@jupyter-widgets/base",
       "_view_module_version": "2.0.0",
       "_view_name": "StyleView",
       "background": null,
       "description_width": "",
       "font_size": null,
       "text_color": null
      }
     },
     "6a4163c1ac184b77bf918327cf87b7ed": {
      "model_module": "@jupyter-widgets/controls",
      "model_module_version": "2.0.0",
      "model_name": "HTMLModel",
      "state": {
       "_dom_classes": [],
       "_model_module": "@jupyter-widgets/controls",
       "_model_module_version": "2.0.0",
       "_model_name": "HTMLModel",
       "_view_count": null,
       "_view_module": "@jupyter-widgets/controls",
       "_view_module_version": "2.0.0",
       "_view_name": "HTMLView",
       "description": "",
       "description_allow_html": false,
       "layout": "IPY_MODEL_7483172c74274833b9f014c7c39dbbd9",
       "placeholder": "​",
       "style": "IPY_MODEL_94ff3ac57fef40648a4a720853539512",
       "tabbable": null,
       "tooltip": null,
       "value": "100%"
      }
     },
     "6bb137be1c024995b23df0988e0a08c4": {
      "model_module": "@jupyter-widgets/base",
      "model_module_version": "2.0.0",
      "model_name": "LayoutModel",
      "state": {
       "_model_module": "@jupyter-widgets/base",
       "_model_module_version": "2.0.0",
       "_model_name": "LayoutModel",
       "_view_count": null,
       "_view_module": "@jupyter-widgets/base",
       "_view_module_version": "2.0.0",
       "_view_name": "LayoutView",
       "align_content": null,
       "align_items": null,
       "align_self": null,
       "border_bottom": null,
       "border_left": null,
       "border_right": null,
       "border_top": null,
       "bottom": null,
       "display": null,
       "flex": null,
       "flex_flow": null,
       "grid_area": null,
       "grid_auto_columns": null,
       "grid_auto_flow": null,
       "grid_auto_rows": null,
       "grid_column": null,
       "grid_gap": null,
       "grid_row": null,
       "grid_template_areas": null,
       "grid_template_columns": null,
       "grid_template_rows": null,
       "height": null,
       "justify_content": null,
       "justify_items": null,
       "left": null,
       "margin": null,
       "max_height": null,
       "max_width": null,
       "min_height": null,
       "min_width": null,
       "object_fit": null,
       "object_position": null,
       "order": null,
       "overflow": null,
       "padding": null,
       "right": null,
       "top": null,
       "visibility": null,
       "width": null
      }
     },
     "6f5a7839ed6646feb715d2609bf7441c": {
      "model_module": "@jupyter-widgets/base",
      "model_module_version": "2.0.0",
      "model_name": "LayoutModel",
      "state": {
       "_model_module": "@jupyter-widgets/base",
       "_model_module_version": "2.0.0",
       "_model_name": "LayoutModel",
       "_view_count": null,
       "_view_module": "@jupyter-widgets/base",
       "_view_module_version": "2.0.0",
       "_view_name": "LayoutView",
       "align_content": null,
       "align_items": null,
       "align_self": null,
       "border_bottom": null,
       "border_left": null,
       "border_right": null,
       "border_top": null,
       "bottom": null,
       "display": null,
       "flex": null,
       "flex_flow": null,
       "grid_area": null,
       "grid_auto_columns": null,
       "grid_auto_flow": null,
       "grid_auto_rows": null,
       "grid_column": null,
       "grid_gap": null,
       "grid_row": null,
       "grid_template_areas": null,
       "grid_template_columns": null,
       "grid_template_rows": null,
       "height": null,
       "justify_content": null,
       "justify_items": null,
       "left": null,
       "margin": null,
       "max_height": null,
       "max_width": null,
       "min_height": null,
       "min_width": null,
       "object_fit": null,
       "object_position": null,
       "order": null,
       "overflow": null,
       "padding": null,
       "right": null,
       "top": null,
       "visibility": null,
       "width": null
      }
     },
     "7392db0dbb374866a5c1879f04a18edb": {
      "model_module": "@jupyter-widgets/controls",
      "model_module_version": "2.0.0",
      "model_name": "HTMLModel",
      "state": {
       "_dom_classes": [],
       "_model_module": "@jupyter-widgets/controls",
       "_model_module_version": "2.0.0",
       "_model_name": "HTMLModel",
       "_view_count": null,
       "_view_module": "@jupyter-widgets/controls",
       "_view_module_version": "2.0.0",
       "_view_name": "HTMLView",
       "description": "",
       "description_allow_html": false,
       "layout": "IPY_MODEL_da6a7b29eb404931a49cd4e802e9db8d",
       "placeholder": "​",
       "style": "IPY_MODEL_c4983f835ca74461b41b1e7f2155a6b5",
       "tabbable": null,
       "tooltip": null,
       "value": " 3911/3911 [1:22:09&lt;00:00,  1.39s/it]"
      }
     },
     "7483172c74274833b9f014c7c39dbbd9": {
      "model_module": "@jupyter-widgets/base",
      "model_module_version": "2.0.0",
      "model_name": "LayoutModel",
      "state": {
       "_model_module": "@jupyter-widgets/base",
       "_model_module_version": "2.0.0",
       "_model_name": "LayoutModel",
       "_view_count": null,
       "_view_module": "@jupyter-widgets/base",
       "_view_module_version": "2.0.0",
       "_view_name": "LayoutView",
       "align_content": null,
       "align_items": null,
       "align_self": null,
       "border_bottom": null,
       "border_left": null,
       "border_right": null,
       "border_top": null,
       "bottom": null,
       "display": null,
       "flex": null,
       "flex_flow": null,
       "grid_area": null,
       "grid_auto_columns": null,
       "grid_auto_flow": null,
       "grid_auto_rows": null,
       "grid_column": null,
       "grid_gap": null,
       "grid_row": null,
       "grid_template_areas": null,
       "grid_template_columns": null,
       "grid_template_rows": null,
       "height": null,
       "justify_content": null,
       "justify_items": null,
       "left": null,
       "margin": null,
       "max_height": null,
       "max_width": null,
       "min_height": null,
       "min_width": null,
       "object_fit": null,
       "object_position": null,
       "order": null,
       "overflow": null,
       "padding": null,
       "right": null,
       "top": null,
       "visibility": null,
       "width": null
      }
     },
     "76581b9d424c4397b65ee6bd04f41d38": {
      "model_module": "@jupyter-widgets/base",
      "model_module_version": "2.0.0",
      "model_name": "LayoutModel",
      "state": {
       "_model_module": "@jupyter-widgets/base",
       "_model_module_version": "2.0.0",
       "_model_name": "LayoutModel",
       "_view_count": null,
       "_view_module": "@jupyter-widgets/base",
       "_view_module_version": "2.0.0",
       "_view_name": "LayoutView",
       "align_content": null,
       "align_items": null,
       "align_self": null,
       "border_bottom": null,
       "border_left": null,
       "border_right": null,
       "border_top": null,
       "bottom": null,
       "display": null,
       "flex": null,
       "flex_flow": null,
       "grid_area": null,
       "grid_auto_columns": null,
       "grid_auto_flow": null,
       "grid_auto_rows": null,
       "grid_column": null,
       "grid_gap": null,
       "grid_row": null,
       "grid_template_areas": null,
       "grid_template_columns": null,
       "grid_template_rows": null,
       "height": null,
       "justify_content": null,
       "justify_items": null,
       "left": null,
       "margin": null,
       "max_height": null,
       "max_width": null,
       "min_height": null,
       "min_width": null,
       "object_fit": null,
       "object_position": null,
       "order": null,
       "overflow": null,
       "padding": null,
       "right": null,
       "top": null,
       "visibility": null,
       "width": null
      }
     },
     "823146fa8e484bacb70e846af0833117": {
      "model_module": "@jupyter-widgets/base",
      "model_module_version": "2.0.0",
      "model_name": "LayoutModel",
      "state": {
       "_model_module": "@jupyter-widgets/base",
       "_model_module_version": "2.0.0",
       "_model_name": "LayoutModel",
       "_view_count": null,
       "_view_module": "@jupyter-widgets/base",
       "_view_module_version": "2.0.0",
       "_view_name": "LayoutView",
       "align_content": null,
       "align_items": null,
       "align_self": null,
       "border_bottom": null,
       "border_left": null,
       "border_right": null,
       "border_top": null,
       "bottom": null,
       "display": null,
       "flex": null,
       "flex_flow": null,
       "grid_area": null,
       "grid_auto_columns": null,
       "grid_auto_flow": null,
       "grid_auto_rows": null,
       "grid_column": null,
       "grid_gap": null,
       "grid_row": null,
       "grid_template_areas": null,
       "grid_template_columns": null,
       "grid_template_rows": null,
       "height": null,
       "justify_content": null,
       "justify_items": null,
       "left": null,
       "margin": null,
       "max_height": null,
       "max_width": null,
       "min_height": null,
       "min_width": null,
       "object_fit": null,
       "object_position": null,
       "order": null,
       "overflow": null,
       "padding": null,
       "right": null,
       "top": null,
       "visibility": null,
       "width": null
      }
     },
     "86f838be24b747e9a9500e05034e21c7": {
      "model_module": "@jupyter-widgets/controls",
      "model_module_version": "2.0.0",
      "model_name": "FloatProgressModel",
      "state": {
       "_dom_classes": [],
       "_model_module": "@jupyter-widgets/controls",
       "_model_module_version": "2.0.0",
       "_model_name": "FloatProgressModel",
       "_view_count": null,
       "_view_module": "@jupyter-widgets/controls",
       "_view_module_version": "2.0.0",
       "_view_name": "ProgressView",
       "bar_style": "success",
       "description": "",
       "description_allow_html": false,
       "layout": "IPY_MODEL_2937fa62fd0542a8b020b401093bb4f0",
       "max": 3911.0,
       "min": 0.0,
       "orientation": "horizontal",
       "style": "IPY_MODEL_2daee8b1fa16482fb7d147c0dc5064bd",
       "tabbable": null,
       "tooltip": null,
       "value": 3911.0
      }
     },
     "872b3770901b44cb91d4e00f2a17f45f": {
      "model_module": "@jupyter-widgets/controls",
      "model_module_version": "2.0.0",
      "model_name": "HTMLStyleModel",
      "state": {
       "_model_module": "@jupyter-widgets/controls",
       "_model_module_version": "2.0.0",
       "_model_name": "HTMLStyleModel",
       "_view_count": null,
       "_view_module": "@jupyter-widgets/base",
       "_view_module_version": "2.0.0",
       "_view_name": "StyleView",
       "background": null,
       "description_width": "",
       "font_size": null,
       "text_color": null
      }
     },
     "94ff3ac57fef40648a4a720853539512": {
      "model_module": "@jupyter-widgets/controls",
      "model_module_version": "2.0.0",
      "model_name": "HTMLStyleModel",
      "state": {
       "_model_module": "@jupyter-widgets/controls",
       "_model_module_version": "2.0.0",
       "_model_name": "HTMLStyleModel",
       "_view_count": null,
       "_view_module": "@jupyter-widgets/base",
       "_view_module_version": "2.0.0",
       "_view_name": "StyleView",
       "background": null,
       "description_width": "",
       "font_size": null,
       "text_color": null
      }
     },
     "a3e9f309da06496986dada5b323c6255": {
      "model_module": "@jupyter-widgets/controls",
      "model_module_version": "2.0.0",
      "model_name": "HTMLModel",
      "state": {
       "_dom_classes": [],
       "_model_module": "@jupyter-widgets/controls",
       "_model_module_version": "2.0.0",
       "_model_name": "HTMLModel",
       "_view_count": null,
       "_view_module": "@jupyter-widgets/controls",
       "_view_module_version": "2.0.0",
       "_view_name": "HTMLView",
       "description": "",
       "description_allow_html": false,
       "layout": "IPY_MODEL_dec2526dcc444a42922208cc40175717",
       "placeholder": "​",
       "style": "IPY_MODEL_3887612212e24d7893c1b0ad6b1199be",
       "tabbable": null,
       "tooltip": null,
       "value": "100%"
      }
     },
     "af0837ba4ac1436eb9a90cd0a7aeb238": {
      "model_module": "@jupyter-widgets/base",
      "model_module_version": "2.0.0",
      "model_name": "LayoutModel",
      "state": {
       "_model_module": "@jupyter-widgets/base",
       "_model_module_version": "2.0.0",
       "_model_name": "LayoutModel",
       "_view_count": null,
       "_view_module": "@jupyter-widgets/base",
       "_view_module_version": "2.0.0",
       "_view_name": "LayoutView",
       "align_content": null,
       "align_items": null,
       "align_self": null,
       "border_bottom": null,
       "border_left": null,
       "border_right": null,
       "border_top": null,
       "bottom": null,
       "display": null,
       "flex": null,
       "flex_flow": null,
       "grid_area": null,
       "grid_auto_columns": null,
       "grid_auto_flow": null,
       "grid_auto_rows": null,
       "grid_column": null,
       "grid_gap": null,
       "grid_row": null,
       "grid_template_areas": null,
       "grid_template_columns": null,
       "grid_template_rows": null,
       "height": null,
       "justify_content": null,
       "justify_items": null,
       "left": null,
       "margin": null,
       "max_height": null,
       "max_width": null,
       "min_height": null,
       "min_width": null,
       "object_fit": null,
       "object_position": null,
       "order": null,
       "overflow": null,
       "padding": null,
       "right": null,
       "top": null,
       "visibility": null,
       "width": null
      }
     },
     "b048297a70f040c8967cbf2c9f7360b5": {
      "model_module": "@jupyter-widgets/controls",
      "model_module_version": "2.0.0",
      "model_name": "HBoxModel",
      "state": {
       "_dom_classes": [],
       "_model_module": "@jupyter-widgets/controls",
       "_model_module_version": "2.0.0",
       "_model_name": "HBoxModel",
       "_view_count": null,
       "_view_module": "@jupyter-widgets/controls",
       "_view_module_version": "2.0.0",
       "_view_name": "HBoxView",
       "box_style": "",
       "children": [
        "IPY_MODEL_2905ceb4358e436ead81d0373c9b5010",
        "IPY_MODEL_13707fdb7783436ab3acb98e48734cd4",
        "IPY_MODEL_15fc1a1bf8e0418c890a9eafcfb3d962"
       ],
       "layout": "IPY_MODEL_ca7fc9a65e4c4c158ae877bf77dae324",
       "tabbable": null,
       "tooltip": null
      }
     },
     "bc0fcaf0553440889ef4eabec8825dd3": {
      "model_module": "@jupyter-widgets/controls",
      "model_module_version": "2.0.0",
      "model_name": "FloatProgressModel",
      "state": {
       "_dom_classes": [],
       "_model_module": "@jupyter-widgets/controls",
       "_model_module_version": "2.0.0",
       "_model_name": "FloatProgressModel",
       "_view_count": null,
       "_view_module": "@jupyter-widgets/controls",
       "_view_module_version": "2.0.0",
       "_view_name": "ProgressView",
       "bar_style": "success",
       "description": "",
       "description_allow_html": false,
       "layout": "IPY_MODEL_335e6d033a5e4726a51c72ea7bcc3965",
       "max": 3911.0,
       "min": 0.0,
       "orientation": "horizontal",
       "style": "IPY_MODEL_df4af1426c1146dbb4dce1d68033fc1b",
       "tabbable": null,
       "tooltip": null,
       "value": 3911.0
      }
     },
     "bed924f92a2e460089b7217656b788cb": {
      "model_module": "@jupyter-widgets/controls",
      "model_module_version": "2.0.0",
      "model_name": "HTMLModel",
      "state": {
       "_dom_classes": [],
       "_model_module": "@jupyter-widgets/controls",
       "_model_module_version": "2.0.0",
       "_model_name": "HTMLModel",
       "_view_count": null,
       "_view_module": "@jupyter-widgets/controls",
       "_view_module_version": "2.0.0",
       "_view_name": "HTMLView",
       "description": "",
       "description_allow_html": false,
       "layout": "IPY_MODEL_11856abb9de74492837d72b1380f7809",
       "placeholder": "​",
       "style": "IPY_MODEL_27f4810f05414d6bac8c377ee4c8f82c",
       "tabbable": null,
       "tooltip": null,
       "value": " 3/3 [00:00&lt;00:00, 122.68it/s]"
      }
     },
     "c4983f835ca74461b41b1e7f2155a6b5": {
      "model_module": "@jupyter-widgets/controls",
      "model_module_version": "2.0.0",
      "model_name": "HTMLStyleModel",
      "state": {
       "_model_module": "@jupyter-widgets/controls",
       "_model_module_version": "2.0.0",
       "_model_name": "HTMLStyleModel",
       "_view_count": null,
       "_view_module": "@jupyter-widgets/base",
       "_view_module_version": "2.0.0",
       "_view_name": "StyleView",
       "background": null,
       "description_width": "",
       "font_size": null,
       "text_color": null
      }
     },
     "ca7fc9a65e4c4c158ae877bf77dae324": {
      "model_module": "@jupyter-widgets/base",
      "model_module_version": "2.0.0",
      "model_name": "LayoutModel",
      "state": {
       "_model_module": "@jupyter-widgets/base",
       "_model_module_version": "2.0.0",
       "_model_name": "LayoutModel",
       "_view_count": null,
       "_view_module": "@jupyter-widgets/base",
       "_view_module_version": "2.0.0",
       "_view_name": "LayoutView",
       "align_content": null,
       "align_items": null,
       "align_self": null,
       "border_bottom": null,
       "border_left": null,
       "border_right": null,
       "border_top": null,
       "bottom": null,
       "display": null,
       "flex": null,
       "flex_flow": null,
       "grid_area": null,
       "grid_auto_columns": null,
       "grid_auto_flow": null,
       "grid_auto_rows": null,
       "grid_column": null,
       "grid_gap": null,
       "grid_row": null,
       "grid_template_areas": null,
       "grid_template_columns": null,
       "grid_template_rows": null,
       "height": null,
       "justify_content": null,
       "justify_items": null,
       "left": null,
       "margin": null,
       "max_height": null,
       "max_width": null,
       "min_height": null,
       "min_width": null,
       "object_fit": null,
       "object_position": null,
       "order": null,
       "overflow": null,
       "padding": null,
       "right": null,
       "top": null,
       "visibility": null,
       "width": null
      }
     },
     "d476ada234d5412c837544f06f4644a9": {
      "model_module": "@jupyter-widgets/controls",
      "model_module_version": "2.0.0",
      "model_name": "HBoxModel",
      "state": {
       "_dom_classes": [],
       "_model_module": "@jupyter-widgets/controls",
       "_model_module_version": "2.0.0",
       "_model_name": "HBoxModel",
       "_view_count": null,
       "_view_module": "@jupyter-widgets/controls",
       "_view_module_version": "2.0.0",
       "_view_name": "HBoxView",
       "box_style": "",
       "children": [
        "IPY_MODEL_6a4163c1ac184b77bf918327cf87b7ed",
        "IPY_MODEL_bc0fcaf0553440889ef4eabec8825dd3",
        "IPY_MODEL_7392db0dbb374866a5c1879f04a18edb"
       ],
       "layout": "IPY_MODEL_af0837ba4ac1436eb9a90cd0a7aeb238",
       "tabbable": null,
       "tooltip": null
      }
     },
     "d7679eb90145474f825645cd811d4a0a": {
      "model_module": "@jupyter-widgets/controls",
      "model_module_version": "2.0.0",
      "model_name": "HBoxModel",
      "state": {
       "_dom_classes": [],
       "_model_module": "@jupyter-widgets/controls",
       "_model_module_version": "2.0.0",
       "_model_name": "HBoxModel",
       "_view_count": null,
       "_view_module": "@jupyter-widgets/controls",
       "_view_module_version": "2.0.0",
       "_view_name": "HBoxView",
       "box_style": "",
       "children": [
        "IPY_MODEL_e0dbc786fdfb4953a2c7ffd6c1827f00",
        "IPY_MODEL_86f838be24b747e9a9500e05034e21c7",
        "IPY_MODEL_e378ce04bb0d4396bea8f78bbc36e632"
       ],
       "layout": "IPY_MODEL_823146fa8e484bacb70e846af0833117",
       "tabbable": null,
       "tooltip": null
      }
     },
     "da6a7b29eb404931a49cd4e802e9db8d": {
      "model_module": "@jupyter-widgets/base",
      "model_module_version": "2.0.0",
      "model_name": "LayoutModel",
      "state": {
       "_model_module": "@jupyter-widgets/base",
       "_model_module_version": "2.0.0",
       "_model_name": "LayoutModel",
       "_view_count": null,
       "_view_module": "@jupyter-widgets/base",
       "_view_module_version": "2.0.0",
       "_view_name": "LayoutView",
       "align_content": null,
       "align_items": null,
       "align_self": null,
       "border_bottom": null,
       "border_left": null,
       "border_right": null,
       "border_top": null,
       "bottom": null,
       "display": null,
       "flex": null,
       "flex_flow": null,
       "grid_area": null,
       "grid_auto_columns": null,
       "grid_auto_flow": null,
       "grid_auto_rows": null,
       "grid_column": null,
       "grid_gap": null,
       "grid_row": null,
       "grid_template_areas": null,
       "grid_template_columns": null,
       "grid_template_rows": null,
       "height": null,
       "justify_content": null,
       "justify_items": null,
       "left": null,
       "margin": null,
       "max_height": null,
       "max_width": null,
       "min_height": null,
       "min_width": null,
       "object_fit": null,
       "object_position": null,
       "order": null,
       "overflow": null,
       "padding": null,
       "right": null,
       "top": null,
       "visibility": null,
       "width": null
      }
     },
     "dec2526dcc444a42922208cc40175717": {
      "model_module": "@jupyter-widgets/base",
      "model_module_version": "2.0.0",
      "model_name": "LayoutModel",
      "state": {
       "_model_module": "@jupyter-widgets/base",
       "_model_module_version": "2.0.0",
       "_model_name": "LayoutModel",
       "_view_count": null,
       "_view_module": "@jupyter-widgets/base",
       "_view_module_version": "2.0.0",
       "_view_name": "LayoutView",
       "align_content": null,
       "align_items": null,
       "align_self": null,
       "border_bottom": null,
       "border_left": null,
       "border_right": null,
       "border_top": null,
       "bottom": null,
       "display": null,
       "flex": null,
       "flex_flow": null,
       "grid_area": null,
       "grid_auto_columns": null,
       "grid_auto_flow": null,
       "grid_auto_rows": null,
       "grid_column": null,
       "grid_gap": null,
       "grid_row": null,
       "grid_template_areas": null,
       "grid_template_columns": null,
       "grid_template_rows": null,
       "height": null,
       "justify_content": null,
       "justify_items": null,
       "left": null,
       "margin": null,
       "max_height": null,
       "max_width": null,
       "min_height": null,
       "min_width": null,
       "object_fit": null,
       "object_position": null,
       "order": null,
       "overflow": null,
       "padding": null,
       "right": null,
       "top": null,
       "visibility": null,
       "width": null
      }
     },
     "df4af1426c1146dbb4dce1d68033fc1b": {
      "model_module": "@jupyter-widgets/controls",
      "model_module_version": "2.0.0",
      "model_name": "ProgressStyleModel",
      "state": {
       "_model_module": "@jupyter-widgets/controls",
       "_model_module_version": "2.0.0",
       "_model_name": "ProgressStyleModel",
       "_view_count": null,
       "_view_module": "@jupyter-widgets/base",
       "_view_module_version": "2.0.0",
       "_view_name": "StyleView",
       "bar_color": null,
       "description_width": ""
      }
     },
     "e0cd453e3d4b443a998fb9157d1f7e2d": {
      "model_module": "@jupyter-widgets/base",
      "model_module_version": "2.0.0",
      "model_name": "LayoutModel",
      "state": {
       "_model_module": "@jupyter-widgets/base",
       "_model_module_version": "2.0.0",
       "_model_name": "LayoutModel",
       "_view_count": null,
       "_view_module": "@jupyter-widgets/base",
       "_view_module_version": "2.0.0",
       "_view_name": "LayoutView",
       "align_content": null,
       "align_items": null,
       "align_self": null,
       "border_bottom": null,
       "border_left": null,
       "border_right": null,
       "border_top": null,
       "bottom": null,
       "display": null,
       "flex": null,
       "flex_flow": null,
       "grid_area": null,
       "grid_auto_columns": null,
       "grid_auto_flow": null,
       "grid_auto_rows": null,
       "grid_column": null,
       "grid_gap": null,
       "grid_row": null,
       "grid_template_areas": null,
       "grid_template_columns": null,
       "grid_template_rows": null,
       "height": null,
       "justify_content": null,
       "justify_items": null,
       "left": null,
       "margin": null,
       "max_height": null,
       "max_width": null,
       "min_height": null,
       "min_width": null,
       "object_fit": null,
       "object_position": null,
       "order": null,
       "overflow": null,
       "padding": null,
       "right": null,
       "top": null,
       "visibility": null,
       "width": null
      }
     },
     "e0dbc786fdfb4953a2c7ffd6c1827f00": {
      "model_module": "@jupyter-widgets/controls",
      "model_module_version": "2.0.0",
      "model_name": "HTMLModel",
      "state": {
       "_dom_classes": [],
       "_model_module": "@jupyter-widgets/controls",
       "_model_module_version": "2.0.0",
       "_model_name": "HTMLModel",
       "_view_count": null,
       "_view_module": "@jupyter-widgets/controls",
       "_view_module_version": "2.0.0",
       "_view_name": "HTMLView",
       "description": "",
       "description_allow_html": false,
       "layout": "IPY_MODEL_e0cd453e3d4b443a998fb9157d1f7e2d",
       "placeholder": "​",
       "style": "IPY_MODEL_590204b91dea4afba9b8db79825bcce3",
       "tabbable": null,
       "tooltip": null,
       "value": "100%"
      }
     },
     "e378ce04bb0d4396bea8f78bbc36e632": {
      "model_module": "@jupyter-widgets/controls",
      "model_module_version": "2.0.0",
      "model_name": "HTMLModel",
      "state": {
       "_dom_classes": [],
       "_model_module": "@jupyter-widgets/controls",
       "_model_module_version": "2.0.0",
       "_model_name": "HTMLModel",
       "_view_count": null,
       "_view_module": "@jupyter-widgets/controls",
       "_view_module_version": "2.0.0",
       "_view_name": "HTMLView",
       "description": "",
       "description_allow_html": false,
       "layout": "IPY_MODEL_76581b9d424c4397b65ee6bd04f41d38",
       "placeholder": "​",
       "style": "IPY_MODEL_663e15fa3d9e4da3becd6ef2af0404f7",
       "tabbable": null,
       "tooltip": null,
       "value": " 3911/3911 [00:12&lt;00:00, 318.92it/s]"
      }
     },
     "e3794e9cd1c24216977f5a3931949f32": {
      "model_module": "@jupyter-widgets/base",
      "model_module_version": "2.0.0",
      "model_name": "LayoutModel",
      "state": {
       "_model_module": "@jupyter-widgets/base",
       "_model_module_version": "2.0.0",
       "_model_name": "LayoutModel",
       "_view_count": null,
       "_view_module": "@jupyter-widgets/base",
       "_view_module_version": "2.0.0",
       "_view_name": "LayoutView",
       "align_content": null,
       "align_items": null,
       "align_self": null,
       "border_bottom": null,
       "border_left": null,
       "border_right": null,
       "border_top": null,
       "bottom": null,
       "display": null,
       "flex": null,
       "flex_flow": null,
       "grid_area": null,
       "grid_auto_columns": null,
       "grid_auto_flow": null,
       "grid_auto_rows": null,
       "grid_column": null,
       "grid_gap": null,
       "grid_row": null,
       "grid_template_areas": null,
       "grid_template_columns": null,
       "grid_template_rows": null,
       "height": null,
       "justify_content": null,
       "justify_items": null,
       "left": null,
       "margin": null,
       "max_height": null,
       "max_width": null,
       "min_height": null,
       "min_width": null,
       "object_fit": null,
       "object_position": null,
       "order": null,
       "overflow": null,
       "padding": null,
       "right": null,
       "top": null,
       "visibility": null,
       "width": null
      }
     },
     "e4f7c14bea7d49ff912574728f9b1246": {
      "model_module": "@jupyter-widgets/controls",
      "model_module_version": "2.0.0",
      "model_name": "ProgressStyleModel",
      "state": {
       "_model_module": "@jupyter-widgets/controls",
       "_model_module_version": "2.0.0",
       "_model_name": "ProgressStyleModel",
       "_view_count": null,
       "_view_module": "@jupyter-widgets/base",
       "_view_module_version": "2.0.0",
       "_view_name": "StyleView",
       "bar_color": null,
       "description_width": ""
      }
     }
    },
    "version_major": 2,
    "version_minor": 0
   }
  }
 },
 "nbformat": 4,
 "nbformat_minor": 5
}
