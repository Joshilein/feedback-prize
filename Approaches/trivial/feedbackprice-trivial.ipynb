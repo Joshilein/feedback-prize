{
 "cells": [
  {
   "cell_type": "code",
   "execution_count": null,
   "metadata": {
    "execution": {
     "iopub.execute_input": "2025-05-15T10:59:51.405694Z",
     "iopub.status.busy": "2025-05-15T10:59:51.405314Z",
     "iopub.status.idle": "2025-05-15T10:59:51.739057Z",
     "shell.execute_reply": "2025-05-15T10:59:51.738183Z",
     "shell.execute_reply.started": "2025-05-15T10:59:51.405668Z"
    },
    "trusted": true
   },
   "outputs": [],
   "source": [
    "import os\n",
    "import pandas as pd"
   ]
  },
  {
   "cell_type": "code",
   "execution_count": null,
   "metadata": {
    "execution": {
     "iopub.execute_input": "2025-05-15T10:59:53.024104Z",
     "iopub.status.busy": "2025-05-15T10:59:53.023100Z",
     "iopub.status.idle": "2025-05-15T10:59:53.030884Z",
     "shell.execute_reply": "2025-05-15T10:59:53.029986Z",
     "shell.execute_reply.started": "2025-05-15T10:59:53.024079Z"
    },
    "trusted": true
   },
   "outputs": [],
   "source": [
    "for dirname, _, filenames in os.walk('/kaggle/input'):\n",
    "    for filename in filenames:\n",
    "        print(os.path.join(dirname, filename))"
   ]
  },
  {
   "cell_type": "code",
   "execution_count": null,
   "metadata": {
    "execution": {
     "iopub.execute_input": "2025-05-15T10:59:53.692035Z",
     "iopub.status.busy": "2025-05-15T10:59:53.691713Z",
     "iopub.status.idle": "2025-05-15T10:59:53.943742Z",
     "shell.execute_reply": "2025-05-15T10:59:53.942882Z",
     "shell.execute_reply.started": "2025-05-15T10:59:53.692015Z"
    },
    "trusted": true
   },
   "outputs": [],
   "source": [
    "train = pd.read_csv(\"/kaggle/input/feedback-prize-english-language-learning/train.csv\")\n",
    "test = pd.read_csv(\"/kaggle/input/feedback-prize-english-language-learning/test.csv\")\n",
    "submission = pd.read_csv(\"/kaggle/input/feedback-prize-english-language-learning/sample_submission.csv\")"
   ]
  },
  {
   "cell_type": "code",
   "execution_count": null,
   "metadata": {
    "execution": {
     "iopub.execute_input": "2025-05-15T11:03:14.699571Z",
     "iopub.status.busy": "2025-05-15T11:03:14.699215Z",
     "iopub.status.idle": "2025-05-15T11:03:14.716274Z",
     "shell.execute_reply": "2025-05-15T11:03:14.714914Z",
     "shell.execute_reply.started": "2025-05-15T11:03:14.699550Z"
    },
    "trusted": true
   },
   "outputs": [],
   "source": [
    "display(train)"
   ]
  },
  {
   "cell_type": "code",
   "execution_count": null,
   "metadata": {
    "execution": {
     "iopub.execute_input": "2025-05-15T11:11:11.818836Z",
     "iopub.status.busy": "2025-05-15T11:11:11.818407Z",
     "iopub.status.idle": "2025-05-15T11:11:11.827674Z",
     "shell.execute_reply": "2025-05-15T11:11:11.826263Z",
     "shell.execute_reply.started": "2025-05-15T11:11:11.818814Z"
    },
    "trusted": true
   },
   "outputs": [],
   "source": [
    "label_columns = [\"cohesion\", \"syntax\", \"vocabulary\", \"phraseology\", \"grammar\", \"conventions\"]\n",
    "\n",
    "means = train[label_columns].mean()\n",
    "\n",
    "print(means)"
   ]
  },
  {
   "cell_type": "code",
   "execution_count": null,
   "metadata": {
    "execution": {
     "iopub.execute_input": "2025-05-15T11:11:45.478241Z",
     "iopub.status.busy": "2025-05-15T11:11:45.477935Z",
     "iopub.status.idle": "2025-05-15T11:11:45.491703Z",
     "shell.execute_reply": "2025-05-15T11:11:45.490571Z",
     "shell.execute_reply.started": "2025-05-15T11:11:45.478220Z"
    },
    "trusted": true
   },
   "outputs": [],
   "source": [
    "submission"
   ]
  },
  {
   "cell_type": "code",
   "execution_count": null,
   "metadata": {
    "execution": {
     "iopub.execute_input": "2025-05-15T11:11:59.695781Z",
     "iopub.status.busy": "2025-05-15T11:11:59.695483Z",
     "iopub.status.idle": "2025-05-15T11:11:59.705628Z",
     "shell.execute_reply": "2025-05-15T11:11:59.704269Z",
     "shell.execute_reply.started": "2025-05-15T11:11:59.695763Z"
    },
    "trusted": true
   },
   "outputs": [],
   "source": [
    "test"
   ]
  },
  {
   "cell_type": "code",
   "execution_count": null,
   "metadata": {
    "execution": {
     "iopub.execute_input": "2025-05-15T11:12:49.261091Z",
     "iopub.status.busy": "2025-05-15T11:12:49.260785Z",
     "iopub.status.idle": "2025-05-15T11:12:49.267552Z",
     "shell.execute_reply": "2025-05-15T11:12:49.266448Z",
     "shell.execute_reply.started": "2025-05-15T11:12:49.261068Z"
    },
    "trusted": true
   },
   "outputs": [],
   "source": [
    "submission_pred = test.drop(\"full_text\",axis=1)"
   ]
  },
  {
   "cell_type": "code",
   "execution_count": null,
   "metadata": {
    "execution": {
     "iopub.execute_input": "2025-05-15T11:14:10.247768Z",
     "iopub.status.busy": "2025-05-15T11:14:10.247457Z",
     "iopub.status.idle": "2025-05-15T11:14:10.255491Z",
     "shell.execute_reply": "2025-05-15T11:14:10.254772Z",
     "shell.execute_reply.started": "2025-05-15T11:14:10.247747Z"
    },
    "trusted": true
   },
   "outputs": [],
   "source": [
    "submission_pred['cohesion'] = means['cohesion']\n",
    "submission_pred['syntax'] = means['syntax']\n",
    "submission_pred['vocabulary'] = means['vocabulary']\n",
    "submission_pred['phraseology'] = means['phraseology']\n",
    "submission_pred['grammar'] = means['grammar']\n",
    "submission_pred['conventions'] = means['conventions']"
   ]
  },
  {
   "cell_type": "code",
   "execution_count": null,
   "metadata": {
    "execution": {
     "iopub.execute_input": "2025-05-15T11:14:12.800986Z",
     "iopub.status.busy": "2025-05-15T11:14:12.800672Z",
     "iopub.status.idle": "2025-05-15T11:14:12.813978Z",
     "shell.execute_reply": "2025-05-15T11:14:12.812961Z",
     "shell.execute_reply.started": "2025-05-15T11:14:12.800967Z"
    },
    "trusted": true
   },
   "outputs": [],
   "source": [
    "submission_pred"
   ]
  },
  {
   "cell_type": "code",
   "execution_count": null,
   "metadata": {
    "execution": {
     "iopub.execute_input": "2025-05-15T11:15:12.422337Z",
     "iopub.status.busy": "2025-05-15T11:15:12.422020Z",
     "iopub.status.idle": "2025-05-15T11:15:12.436714Z",
     "shell.execute_reply": "2025-05-15T11:15:12.435563Z",
     "shell.execute_reply.started": "2025-05-15T11:15:12.422316Z"
    },
    "trusted": true
   },
   "outputs": [],
   "source": [
    "submission_pred.to_csv('submission.csv',index=False)"
   ]
  }
 ],
 "metadata": {
  "kaggle": {
   "accelerator": "none",
   "dataSources": [
    {
     "databundleVersionId": 4196674,
     "isSourceIdPinned": false,
     "sourceId": 38321,
     "sourceType": "competition"
    }
   ],
   "dockerImageVersionId": 31040,
   "isGpuEnabled": false,
   "isInternetEnabled": false,
   "language": "python",
   "sourceType": "notebook"
  },
  "kernelspec": {
   "display_name": "Python 3",
   "language": "python",
   "name": "python3"
  },
  "language_info": {
   "codemirror_mode": {
    "name": "ipython",
    "version": 3
   },
   "file_extension": ".py",
   "mimetype": "text/x-python",
   "name": "python",
   "nbconvert_exporter": "python",
   "pygments_lexer": "ipython3",
   "version": "3.11.11"
  }
 },
 "nbformat": 4,
 "nbformat_minor": 4
}
