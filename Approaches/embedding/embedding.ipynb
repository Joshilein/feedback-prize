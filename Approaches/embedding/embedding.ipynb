{
 "cells": [
  {
   "cell_type": "markdown",
   "id": "e79b3465",
   "metadata": {},
   "source": [
    "# Approach: Embedding + MLP"
   ]
  },
  {
   "cell_type": "code",
   "execution_count": 1,
   "id": "3f597a62",
   "metadata": {},
   "outputs": [],
   "source": [
    "import os\n",
    "import pandas as pd\n",
    "from sklearn.model_selection import KFold\n",
    "import torch\n",
    "import torch.nn as nn\n",
    "from torch.utils.data import Dataset, DataLoader\n",
    "import csv\n"
   ]
  },
  {
   "cell_type": "code",
   "execution_count": 2,
   "id": "978a2ffa",
   "metadata": {},
   "outputs": [],
   "source": [
    "train = pd.read_csv(\"../../data/train.csv\")\n",
    "test = pd.read_csv(\"../../data/test.csv\")\n",
    "\n",
    "# IN KAGGLE:\n",
    "#train = pd.read_csv(\"/kaggle/input/feedback-prize-english-language-learning/train.csv\")\n",
    "#test = pd.read_csv(\"/kaggle/input/feedback-prize-english-language-learning/test.csv\")"
   ]
  },
  {
   "cell_type": "markdown",
   "id": "33ad0751",
   "metadata": {},
   "source": [
    "### Generate Embeddings"
   ]
  },
  {
   "cell_type": "code",
   "execution_count": 3,
   "id": "df7af4db",
   "metadata": {},
   "outputs": [
    {
     "name": "stderr",
     "output_type": "stream",
     "text": [
      "/root/projects/ai-lab/feedback-prize/.venv/lib/python3.12/site-packages/tqdm/auto.py:21: TqdmWarning: IProgress not found. Please update jupyter and ipywidgets. See https://ipywidgets.readthedocs.io/en/stable/user_install.html\n",
      "  from .autonotebook import tqdm as notebook_tqdm\n",
      "Batches: 100%|██████████| 123/123 [00:12<00:00,  9.71it/s]\n"
     ]
    }
   ],
   "source": [
    "from sentence_transformers import SentenceTransformer\n",
    "\n",
    "sbert_model = SentenceTransformer(\"all-MiniLM-L6-v2\")\n",
    "\n",
    "# IN KAGGLE (UPLOAD sbert_model.zip TO NOTEBOOK AS DATASET FIRST):\n",
    "#sbert_model = SentenceTransformer(\"/kaggle/input/sentence-bert\")\n",
    "\n",
    "embeddings = sbert_model.encode(train[\"full_text\"].tolist(), show_progress_bar=True)\n",
    "\n",
    "train[\"embedding\"] = embeddings.tolist()\n"
   ]
  },
  {
   "cell_type": "markdown",
   "id": "53b1c412",
   "metadata": {},
   "source": [
    "### Define Dataset & Dataloader"
   ]
  },
  {
   "cell_type": "code",
   "execution_count": 4,
   "id": "0619559c",
   "metadata": {},
   "outputs": [],
   "source": [
    "\n",
    "class SBERTEmbeddingDataset(Dataset):\n",
    "    def __init__(self, dataframe):\n",
    "        self.embeddings = dataframe[\"embedding\"].tolist()\n",
    "        self.labels = dataframe[[\"cohesion\", \"syntax\", \"vocabulary\", \"phraseology\", \"grammar\", \"conventions\"]].values.astype(float)\n",
    "\n",
    "    def __len__(self):\n",
    "        return len(self.embeddings)\n",
    "\n",
    "    def __getitem__(self, idx):\n",
    "        embedding = torch.tensor(self.embeddings[idx], dtype=torch.float)\n",
    "        labels = torch.tensor(self.labels[idx], dtype=torch.float)\n",
    "        return embedding, labels\n"
   ]
  },
  {
   "cell_type": "code",
   "execution_count": 5,
   "id": "9ee9d037",
   "metadata": {},
   "outputs": [],
   "source": [
    "dataset = SBERTEmbeddingDataset(train)\n",
    "dataloader = DataLoader(dataset, batch_size=32, shuffle=True)"
   ]
  },
  {
   "cell_type": "markdown",
   "id": "d80ea417",
   "metadata": {},
   "source": [
    "### Define simple Feed Forward Net"
   ]
  },
  {
   "cell_type": "code",
   "execution_count": 6,
   "id": "108f7291",
   "metadata": {},
   "outputs": [],
   "source": [
    "def model_fn():\n",
    "    return nn.Sequential(\n",
    "        nn.Linear(384, 512),\n",
    "        nn.ReLU(),\n",
    "        nn.BatchNorm1d(512),\n",
    "        nn.Dropout(0.4),\n",
    "\n",
    "        nn.Linear(512, 256),\n",
    "        nn.ReLU(),\n",
    "        nn.BatchNorm1d(256),\n",
    "        nn.Dropout(0.3),\n",
    "\n",
    "        nn.Linear(256, 128),\n",
    "        nn.ReLU(),\n",
    "        nn.BatchNorm1d(128),\n",
    "        nn.Dropout(0.2),\n",
    "\n",
    "        nn.Linear(128, 6)  # Multi-Target Regression\n",
    "    )\n"
   ]
  },
  {
   "cell_type": "markdown",
   "id": "21f8b585",
   "metadata": {},
   "source": [
    "### Train Net"
   ]
  },
  {
   "cell_type": "code",
   "execution_count": 7,
   "id": "eec753c2",
   "metadata": {},
   "outputs": [],
   "source": [
    "class MCRMSELoss(nn.Module):\n",
    "    def __init__(self):\n",
    "        super().__init__()\n",
    "        self.mse = nn.MSELoss(reduction='none')\n",
    "\n",
    "    def forward(self, preds, targets):\n",
    "        # preds/targets: [batch_size, num_targets]\n",
    "        colwise_mse = self.mse(preds, targets).mean(dim=0)  # Mittelwert pro Spalte\n",
    "        colwise_rmse = torch.sqrt(colwise_mse + 1e-8)       # RMSE pro Ziel\n",
    "        return colwise_rmse.mean()                          # Mittelwert über Ziele\n"
   ]
  },
  {
   "cell_type": "code",
   "execution_count": null,
   "id": "0d0991e9",
   "metadata": {},
   "outputs": [],
   "source": [
    "import torch\n",
    "from torch.utils.data import DataLoader\n",
    "from sklearn.model_selection import KFold\n",
    "import matplotlib.pyplot as plt\n",
    "\n",
    "def cross_validate_kfold(\n",
    "        dataset,\n",
    "        model_fn,\n",
    "        k: int = 5,\n",
    "        num_epochs: int = 10,\n",
    "        lr: float = 1e-3,\n",
    "        batch_size: int = 32,\n",
    "        weight_decay: float = 1e-2,\n",
    "):\n",
    "    device = 'cuda' if torch.cuda.is_available() else 'cpu'\n",
    "    kf = KFold(n_splits=k, shuffle=True, random_state=42)\n",
    "\n",
    "    fold_final_val_losses = []      # letzter Val-Loss je Fold (für Statistik)\n",
    "    fold_histories = []             # gesamte Loss-Historie je Fold\n",
    "\n",
    "    plt.figure(figsize=(8, 5))\n",
    "\n",
    "    for fold, (train_idx, val_idx) in enumerate(kf.split(dataset), start=1):\n",
    "        print(f\"\\n─── Fold {fold} ───\")\n",
    "\n",
    "        train_subset = torch.utils.data.Subset(dataset, train_idx)\n",
    "        val_subset   = torch.utils.data.Subset(dataset, val_idx)\n",
    "\n",
    "        train_loader = DataLoader(train_subset, batch_size=batch_size, shuffle=True)\n",
    "        val_loader   = DataLoader(val_subset,   batch_size=batch_size)\n",
    "\n",
    "        model = model_fn().to(device)\n",
    "\n",
    "        optimizer = torch.optim.AdamW(model.parameters(),\n",
    "                                      lr=lr,\n",
    "                                      weight_decay=weight_decay)\n",
    "        scheduler = torch.optim.lr_scheduler.ReduceLROnPlateau(optimizer,\n",
    "                                                               mode='min',\n",
    "                                                               factor=0.5,\n",
    "                                                               patience=2)\n",
    "\n",
    "        loss_fn = torch.nn.MSELoss()          # oder dein eigenes Loss\n",
    "        val_loss_history = []                 # log für diesen Fold\n",
    "\n",
    "        for epoch in range(1, num_epochs + 1):\n",
    "            # ----- Training -----\n",
    "            model.train()\n",
    "            for xb, yb in train_loader:\n",
    "                xb, yb = xb.to(device), yb.to(device)\n",
    "                preds = model(xb)\n",
    "\n",
    "                loss = loss_fn(preds, yb)\n",
    "                optimizer.zero_grad()\n",
    "                loss.backward()\n",
    "                optimizer.step()\n",
    "\n",
    "            # ----- Validation -----\n",
    "            model.eval()\n",
    "            val_loss = 0.0\n",
    "            with torch.no_grad():\n",
    "                for xb, yb in val_loader:\n",
    "                    xb, yb = xb.to(device), yb.to(device)\n",
    "                    preds = model(xb)\n",
    "                    val_loss += loss_fn(preds, yb).item() * xb.size(0)\n",
    "\n",
    "            avg_val_loss = val_loss / len(val_loader.dataset)\n",
    "            scheduler.step(avg_val_loss)\n",
    "            val_loss_history.append(avg_val_loss)\n",
    "\n",
    "            print(f\"Fold {fold} | Epoch {epoch:>2}/{num_epochs} | \"\n",
    "                  f\"val loss: {avg_val_loss:.4f}\")\n",
    "\n",
    "        # ----- Logging für Plot -----\n",
    "        fold_histories.append(val_loss_history)\n",
    "        fold_final_val_losses.append(val_loss_history[-1])\n",
    "\n",
    "        plt.plot(range(1, num_epochs + 1),\n",
    "                 val_loss_history,\n",
    "                 label=f\"Fold {fold}\")\n",
    "\n",
    "    # ----- Gesamter Plot -----\n",
    "    plt.title(\"Validation-Loss je Fold\")\n",
    "    plt.xlabel(\"Epoch\")\n",
    "    plt.ylabel(\"Loss\")\n",
    "    plt.legend()\n",
    "    plt.grid(alpha=.3)\n",
    "    plt.tight_layout()\n",
    "    plt.show()\n",
    "\n",
    "    mean_final = sum(fold_final_val_losses) / k\n",
    "    print(f\"\\n⟹ Ø Validation-Loss über {k} Folds: {mean_final:.4f}\")\n",
    "\n",
    "    # gib ggf. zusätzlich die komplette Historie zurück\n",
    "    return fold_final_val_losses, fold_histories, model\n"
   ]
  },
  {
   "cell_type": "code",
   "execution_count": 10,
   "id": "4c421b2f",
   "metadata": {},
   "outputs": [
    {
     "name": "stdout",
     "output_type": "stream",
     "text": [
      "\n",
      "─── Fold 1 ───\n",
      "Fold 1 | Epoch  1/25 | val loss: 9.7511\n",
      "Fold 1 | Epoch  2/25 | val loss: 9.5157\n",
      "Fold 1 | Epoch  3/25 | val loss: 9.3179\n",
      "Fold 1 | Epoch  4/25 | val loss: 9.1485\n",
      "Fold 1 | Epoch  5/25 | val loss: 8.6981\n",
      "Fold 1 | Epoch  6/25 | val loss: 8.3325\n",
      "Fold 1 | Epoch  7/25 | val loss: 7.6376\n",
      "Fold 1 | Epoch  8/25 | val loss: 7.1340\n",
      "Fold 1 | Epoch  9/25 | val loss: 6.2219\n",
      "Fold 1 | Epoch 10/25 | val loss: 5.2584\n",
      "Fold 1 | Epoch 11/25 | val loss: 4.4841\n",
      "Fold 1 | Epoch 12/25 | val loss: 3.5461\n",
      "Fold 1 | Epoch 13/25 | val loss: 2.8352\n",
      "Fold 1 | Epoch 14/25 | val loss: 2.2297\n",
      "Fold 1 | Epoch 15/25 | val loss: 1.6804\n",
      "Fold 1 | Epoch 16/25 | val loss: 1.2638\n",
      "Fold 1 | Epoch 17/25 | val loss: 1.0220\n",
      "Fold 1 | Epoch 18/25 | val loss: 0.7822\n",
      "Fold 1 | Epoch 19/25 | val loss: 0.6870\n",
      "Fold 1 | Epoch 20/25 | val loss: 0.5487\n",
      "Fold 1 | Epoch 21/25 | val loss: 0.5041\n",
      "Fold 1 | Epoch 22/25 | val loss: 0.5085\n",
      "Fold 1 | Epoch 23/25 | val loss: 0.4393\n",
      "Fold 1 | Epoch 24/25 | val loss: 0.4269\n",
      "Fold 1 | Epoch 25/25 | val loss: 0.3990\n",
      "\n",
      "─── Fold 2 ───\n",
      "Fold 2 | Epoch  1/25 | val loss: 9.9718\n",
      "Fold 2 | Epoch  2/25 | val loss: 9.6393\n",
      "Fold 2 | Epoch  3/25 | val loss: 9.5143\n",
      "Fold 2 | Epoch  4/25 | val loss: 9.0803\n",
      "Fold 2 | Epoch  5/25 | val loss: 8.7695\n",
      "Fold 2 | Epoch  6/25 | val loss: 8.2407\n",
      "Fold 2 | Epoch  7/25 | val loss: 7.2596\n",
      "Fold 2 | Epoch  8/25 | val loss: 6.7129\n",
      "Fold 2 | Epoch  9/25 | val loss: 5.8180\n",
      "Fold 2 | Epoch 10/25 | val loss: 4.9949\n",
      "Fold 2 | Epoch 11/25 | val loss: 4.0160\n",
      "Fold 2 | Epoch 12/25 | val loss: 3.2238\n",
      "Fold 2 | Epoch 13/25 | val loss: 2.3791\n",
      "Fold 2 | Epoch 14/25 | val loss: 1.9362\n",
      "Fold 2 | Epoch 15/25 | val loss: 1.2970\n",
      "Fold 2 | Epoch 16/25 | val loss: 0.9580\n",
      "Fold 2 | Epoch 17/25 | val loss: 0.7851\n",
      "Fold 2 | Epoch 18/25 | val loss: 0.5953\n",
      "Fold 2 | Epoch 19/25 | val loss: 0.5188\n",
      "Fold 2 | Epoch 20/25 | val loss: 0.4858\n",
      "Fold 2 | Epoch 21/25 | val loss: 0.4325\n",
      "Fold 2 | Epoch 22/25 | val loss: 0.4226\n",
      "Fold 2 | Epoch 23/25 | val loss: 0.4173\n",
      "Fold 2 | Epoch 24/25 | val loss: 0.4027\n",
      "Fold 2 | Epoch 25/25 | val loss: 0.3951\n",
      "\n",
      "─── Fold 3 ───\n",
      "Fold 3 | Epoch  1/25 | val loss: 10.4396\n",
      "Fold 3 | Epoch  2/25 | val loss: 10.1681\n",
      "Fold 3 | Epoch  3/25 | val loss: 9.9552\n",
      "Fold 3 | Epoch  4/25 | val loss: 9.6784\n",
      "Fold 3 | Epoch  5/25 | val loss: 9.1930\n",
      "Fold 3 | Epoch  6/25 | val loss: 8.7024\n",
      "Fold 3 | Epoch  7/25 | val loss: 8.1484\n",
      "Fold 3 | Epoch  8/25 | val loss: 7.3542\n",
      "Fold 3 | Epoch  9/25 | val loss: 6.6473\n",
      "Fold 3 | Epoch 10/25 | val loss: 5.6228\n",
      "Fold 3 | Epoch 11/25 | val loss: 4.4995\n",
      "Fold 3 | Epoch 12/25 | val loss: 3.7416\n",
      "Fold 3 | Epoch 13/25 | val loss: 2.8456\n",
      "Fold 3 | Epoch 14/25 | val loss: 2.3802\n",
      "Fold 3 | Epoch 15/25 | val loss: 1.7361\n",
      "Fold 3 | Epoch 16/25 | val loss: 1.2666\n",
      "Fold 3 | Epoch 17/25 | val loss: 1.0747\n",
      "Fold 3 | Epoch 18/25 | val loss: 0.8037\n",
      "Fold 3 | Epoch 19/25 | val loss: 0.7024\n",
      "Fold 3 | Epoch 20/25 | val loss: 0.6050\n",
      "Fold 3 | Epoch 21/25 | val loss: 0.5281\n",
      "Fold 3 | Epoch 22/25 | val loss: 0.4882\n",
      "Fold 3 | Epoch 23/25 | val loss: 0.4727\n",
      "Fold 3 | Epoch 24/25 | val loss: 0.4695\n",
      "Fold 3 | Epoch 25/25 | val loss: 0.4290\n",
      "\n",
      "─── Fold 4 ───\n",
      "Fold 4 | Epoch  1/25 | val loss: 9.5849\n",
      "Fold 4 | Epoch  2/25 | val loss: 9.4643\n",
      "Fold 4 | Epoch  3/25 | val loss: 9.2080\n",
      "Fold 4 | Epoch  4/25 | val loss: 8.9260\n",
      "Fold 4 | Epoch  5/25 | val loss: 8.4926\n",
      "Fold 4 | Epoch  6/25 | val loss: 7.9833\n",
      "Fold 4 | Epoch  7/25 | val loss: 7.4722\n",
      "Fold 4 | Epoch  8/25 | val loss: 6.8575\n",
      "Fold 4 | Epoch  9/25 | val loss: 5.9180\n",
      "Fold 4 | Epoch 10/25 | val loss: 4.9090\n",
      "Fold 4 | Epoch 11/25 | val loss: 4.1121\n",
      "Fold 4 | Epoch 12/25 | val loss: 3.1377\n",
      "Fold 4 | Epoch 13/25 | val loss: 2.4396\n",
      "Fold 4 | Epoch 14/25 | val loss: 1.9181\n",
      "Fold 4 | Epoch 15/25 | val loss: 1.4804\n",
      "Fold 4 | Epoch 16/25 | val loss: 1.0164\n",
      "Fold 4 | Epoch 17/25 | val loss: 0.8476\n",
      "Fold 4 | Epoch 18/25 | val loss: 0.6679\n",
      "Fold 4 | Epoch 19/25 | val loss: 0.6023\n",
      "Fold 4 | Epoch 20/25 | val loss: 0.5275\n",
      "Fold 4 | Epoch 21/25 | val loss: 0.4655\n",
      "Fold 4 | Epoch 22/25 | val loss: 0.4420\n",
      "Fold 4 | Epoch 23/25 | val loss: 0.4240\n",
      "Fold 4 | Epoch 24/25 | val loss: 0.4076\n",
      "Fold 4 | Epoch 25/25 | val loss: 0.4127\n",
      "\n",
      "─── Fold 5 ───\n",
      "Fold 5 | Epoch  1/25 | val loss: 9.7605\n",
      "Fold 5 | Epoch  2/25 | val loss: 9.6070\n",
      "Fold 5 | Epoch  3/25 | val loss: 9.2501\n",
      "Fold 5 | Epoch  4/25 | val loss: 9.0422\n",
      "Fold 5 | Epoch  5/25 | val loss: 8.5299\n",
      "Fold 5 | Epoch  6/25 | val loss: 8.0187\n",
      "Fold 5 | Epoch  7/25 | val loss: 7.3538\n",
      "Fold 5 | Epoch  8/25 | val loss: 6.5538\n",
      "Fold 5 | Epoch  9/25 | val loss: 5.5493\n",
      "Fold 5 | Epoch 10/25 | val loss: 4.6993\n",
      "Fold 5 | Epoch 11/25 | val loss: 3.8063\n",
      "Fold 5 | Epoch 12/25 | val loss: 3.0319\n",
      "Fold 5 | Epoch 13/25 | val loss: 2.3720\n",
      "Fold 5 | Epoch 14/25 | val loss: 1.8446\n",
      "Fold 5 | Epoch 15/25 | val loss: 1.3218\n",
      "Fold 5 | Epoch 16/25 | val loss: 1.0142\n",
      "Fold 5 | Epoch 17/25 | val loss: 0.7346\n",
      "Fold 5 | Epoch 18/25 | val loss: 0.6538\n",
      "Fold 5 | Epoch 19/25 | val loss: 0.5266\n",
      "Fold 5 | Epoch 20/25 | val loss: 0.4601\n",
      "Fold 5 | Epoch 21/25 | val loss: 0.4277\n",
      "Fold 5 | Epoch 22/25 | val loss: 0.3996\n",
      "Fold 5 | Epoch 23/25 | val loss: 0.3866\n",
      "Fold 5 | Epoch 24/25 | val loss: 0.3928\n",
      "Fold 5 | Epoch 25/25 | val loss: 0.3726\n"
     ]
    },
    {
     "data": {
      "image/png": "[encoded data removed]",
      "text/plain": [
       "<Figure size 800x500 with 1 Axes>"
      ]
     },
     "metadata": {},
     "output_type": "display_data"
    },
    {
     "name": "stdout",
     "output_type": "stream",
     "text": [
      "\n",
      "⟹ Ø Validation-Loss über 5 Folds: 0.4017\n"
     ]
    }
   ],
   "source": [
    "dataset = SBERTEmbeddingDataset(train)\n",
    "fold_losses, fold_histories, model = cross_validate_kfold(\n",
    "    dataset    = dataset,\n",
    "    model_fn   = model_fn,\n",
    "    k          = 5,\n",
    "    num_epochs = 25,\n",
    "    lr         = 1e-4,\n",
    "    batch_size = 32,\n",
    ")\n"
   ]
  },
  {
   "cell_type": "code",
   "execution_count": null,
   "id": "04371d68",
   "metadata": {},
   "outputs": [],
   "source": []
  },
  {
   "cell_type": "markdown",
   "id": "2d50c329",
   "metadata": {},
   "source": [
    "### Generate Submission"
   ]
  },
  {
   "cell_type": "code",
   "execution_count": 150,
   "id": "e4c7e2c6",
   "metadata": {},
   "outputs": [
    {
     "name": "stderr",
     "output_type": "stream",
     "text": [
      "Batches: 100%|██████████| 1/1 [00:00<00:00, 29.18it/s]\n"
     ]
    }
   ],
   "source": [
    "embeddings = sbert_model.encode(test[\"full_text\"].tolist(), show_progress_bar=True)\n",
    "\n",
    "# Optional: Embeddings in die DataFrame schreiben\n",
    "test[\"embedding\"] = embeddings.tolist()"
   ]
  },
  {
   "cell_type": "code",
   "execution_count": 151,
   "id": "ba04b486",
   "metadata": {},
   "outputs": [],
   "source": [
    "class SBERTTestDataset(Dataset):\n",
    "    def __init__(self, dataframe):\n",
    "        self.ids = dataframe[\"text_id\"].tolist()\n",
    "        self.embeddings = dataframe[\"embedding\"].tolist()\n",
    "\n",
    "    def __len__(self):\n",
    "        return len(self.embeddings)\n",
    "\n",
    "    def __getitem__(self, idx):\n",
    "        embedding = torch.tensor(self.embeddings[idx], dtype=torch.float)\n",
    "        return self.ids[idx], embedding"
   ]
  },
  {
   "cell_type": "code",
   "execution_count": 152,
   "id": "b36b23a5",
   "metadata": {},
   "outputs": [],
   "source": [
    "test_dataset = SBERTTestDataset(test)\n",
    "test_loader = DataLoader(test_dataset, batch_size=32)"
   ]
  },
  {
   "cell_type": "code",
   "execution_count": 153,
   "id": "cb04411b",
   "metadata": {},
   "outputs": [],
   "source": [
    "model.eval()\n",
    "device = 'cuda' if torch.cuda.is_available() else 'cpu'\n",
    "model.to(device)\n",
    "\n",
    "predictions = []\n",
    "text_ids = []\n",
    "\n",
    "with torch.no_grad():\n",
    "    for ids, xb in test_loader:\n",
    "        xb = xb.to(device)\n",
    "        preds = model(xb)\n",
    "        preds = preds.clamp(0, 5)\n",
    "        preds = preds.cpu().numpy()\n",
    "        predictions.extend(preds.tolist())\n",
    "        text_ids.extend(ids)\n",
    "\n",
    "submission_df = pd.DataFrame(predictions, columns=[\n",
    "    \"cohesion\", \"syntax\", \"vocabulary\", \"phraseology\", \"grammar\", \"conventions\"\n",
    "])\n",
    "submission_df.insert(0, \"text_id\", text_ids)\n",
    "\n",
    "submission_df.to_csv(\"submission.csv\", index=False)"
   ]
  },
  {
   "cell_type": "code",
   "execution_count": null,
   "id": "15d659b7",
   "metadata": {},
   "outputs": [],
   "source": []
  }
 ],
 "metadata": {
  "kernelspec": {
   "display_name": ".venv",
   "language": "python",
   "name": "python3"
  },
  "language_info": {
   "codemirror_mode": {
    "name": "ipython",
    "version": 3
   },
   "file_extension": ".py",
   "mimetype": "text/x-python",
   "name": "python",
   "nbconvert_exporter": "python",
   "pygments_lexer": "ipython3",
   "version": "3.12.3"
  }
 },
 "nbformat": 4,
 "nbformat_minor": 5
}
