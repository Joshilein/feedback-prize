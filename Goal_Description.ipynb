{
 "cells": [
  {
   "cell_type": "markdown",
   "id": "d04cf325",
   "metadata": {},
   "source": [
    "## Competition Summary\n",
    "\n",
    "### Goal\n",
    "Develop models to assess the English language proficiency of 8th–12th grade English Language Learners (ELLs) using their written essays.\n",
    "\n",
    "### Key Objectives\n",
    "- Provide more accurate, proficiency-sensitive feedback for ELLs.\n",
    "- Help teachers by reducing grading workload.\n",
    "- Enable more appropriate, level-targeted learning tasks for students.\n",
    "\n",
    "### Context\n",
    "- Writing practice is limited in schools, especially for ELLs.\n",
    "- Current automated feedback tools do not consider language proficiency, leading to unfair evaluations.\n",
    "\n",
    "### Limitations\n",
    "- Code competition - submissions as notebooks\n",
    "- maximum runtime of 9h\n",
    "- internet in kaggle notebook must be turned off\n"
   ]
  },
  {
   "cell_type": "markdown",
   "id": "ee6b9f2e",
   "metadata": {},
   "source": [
    "## Dataset Overview: ELLIPSE Corpus\n",
    "\n",
    "### Content\n",
    "- Argumentative essays written by 8th–12th grade English Language Learners (ELLs).\n",
    "- Each essay is scored on six analytic measures:\n",
    "  - Cohesion\n",
    "  - Syntax\n",
    "  - Vocabulary\n",
    "  - Phraseology\n",
    "  - Grammar\n",
    "  - Conventions\n",
    "\n",
    "### Objective\n",
    "- Predict the scores (ranging from 1.0 to 5.0 in 0.5 increments) for each of the six measures for essays in the test set.\n",
    "\n",
    "### Files Provided\n",
    "- `train.csv`: Contains `text_id`, `full_text`, and scores for all six measures.\n",
    "- `test.csv`: Contains `text_id` and `full_text` only.\n",
    "- `sample_submission.csv`: Shows the required submission format.\n",
    "\n",
    "### Additional Notes\n",
    "- This is a code competition; test data is limited for solution development.\n"
   ]
  }
 ],
 "metadata": {
  "kernelspec": {
   "display_name": ".venv",
   "language": "python",
   "name": "python3"
  },
  "language_info": {
   "codemirror_mode": {
    "name": "ipython",
    "version": 3
   },
   "file_extension": ".py",
   "mimetype": "text/x-python",
   "name": "python",
   "nbconvert_exporter": "python",
   "pygments_lexer": "ipython3",
   "version": "3.12.3"
  }
 },
 "nbformat": 4,
 "nbformat_minor": 5
}
