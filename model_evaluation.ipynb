{
 "cells": [
  {
   "cell_type": "code",
   "execution_count": 2,
   "id": "ccf4fd1d",
   "metadata": {},
   "outputs": [],
   "source": [
    "import pandas as pd\n",
    "from sklearn.ensemble import RandomForestRegressor\n",
    "from sklearn.model_selection import train_test_split\n",
    "import torch\n",
    "import torch.nn as nn\n",
    "import numpy as np"
   ]
  },
  {
   "cell_type": "code",
   "execution_count": 3,
   "id": "8faa236c",
   "metadata": {},
   "outputs": [
    {
     "name": "stdout",
     "output_type": "stream",
     "text": [
      "           text_id                                          full_text  \\\n",
      "0     0016926B079C  i think that students would benefit from learn...   \n",
      "1     0022683E9EA5  when a problem is a change you have to let it ...   \n",
      "2     00299B378633  dear, principal  if u change the school policy...   \n",
      "3     003885A45F42  the best time in life is when you become yours...   \n",
      "4     0049B1DF5CCC  small act of kindness can impact in other peop...   \n",
      "...            ...                                                ...   \n",
      "3926  FFD29828A873  i believe using cellphones in class for educat...   \n",
      "3927  FFD9A83B0849  working alone, students do not have to argue w...   \n",
      "3928  FFDC4011AC9C  \"a problem is a chance for you to do your best...   \n",
      "3929  FFE16D704B16  many people disagree with albert schweitzer's ...   \n",
      "3930  FFED00D6E0BD  do you think that failure is the main thing fo...   \n",
      "\n",
      "      cohesion  syntax  vocabulary  phraseology  grammar  conventions  \\\n",
      "0          3.5     3.5         3.0          3.0      4.0          3.0   \n",
      "1          2.5     2.5         3.0          2.0      2.0          2.5   \n",
      "2          3.0     3.5         3.0          3.0      3.0          2.5   \n",
      "3          4.5     4.5         4.5          4.5      4.0          5.0   \n",
      "4          2.5     3.0         3.0          3.0      2.5          2.5   \n",
      "...        ...     ...         ...          ...      ...          ...   \n",
      "3926       2.5     3.0         3.0          3.5      2.5          2.5   \n",
      "3927       4.0     4.0         4.0          4.0      3.5          3.0   \n",
      "3928       2.5     3.0         3.0          3.0      3.5          3.0   \n",
      "3929       4.0     4.5         4.5          4.0      4.5          4.5   \n",
      "3930       3.5     2.5         3.5          3.0      3.0          3.5   \n",
      "\n",
      "      n_capital  n_punct  ...  min_sent_len  med_sent_len  std_sent_len  \\\n",
      "0           1.0     25.0  ...           0.0          11.0      6.783963   \n",
      "1           2.0     27.0  ...           0.0          19.0     17.166634   \n",
      "2           9.0     56.0  ...           0.0          16.0      5.869199   \n",
      "3           9.0    166.0  ...           0.0          16.0      7.161703   \n",
      "4           0.0      3.0  ...           0.0          26.5     31.148836   \n",
      "...         ...      ...  ...           ...           ...           ...   \n",
      "3926        4.0     15.0  ...           2.0          21.0     16.027754   \n",
      "3927        2.0     39.0  ...           0.0          21.0     13.465064   \n",
      "3928        4.0     23.0  ...           0.0          27.0     12.715640   \n",
      "3929        0.0     68.0  ...          10.0          19.0     14.360977   \n",
      "3930        2.0     72.0  ...           0.0          37.0     21.374985   \n",
      "\n",
      "      num_sent  compound  negative  positive  neutral  char_len  lex_diversity  \n",
      "0         19.0    0.9363     0.051     0.099    0.850     261.0       0.469965  \n",
      "1         15.0   -0.9194     0.111     0.091    0.798     533.0       0.249097  \n",
      "2         20.0    0.9271     0.054     0.110    0.837     320.0       0.320225  \n",
      "3         37.0    0.9995     0.052     0.245    0.704     728.0       0.247608  \n",
      "4          4.0    0.9868     0.000     0.164    0.836     234.0       0.447257  \n",
      "...        ...       ...       ...       ...      ...       ...            ...  \n",
      "3926       6.0    0.9252     0.081     0.138    0.781     179.0       0.587302  \n",
      "3927      17.0    0.9975     0.020     0.171    0.810     465.0       0.348606  \n",
      "3928       8.0   -0.3901     0.147     0.135    0.718     257.0       0.429603  \n",
      "3929      18.0    0.9973     0.049     0.167    0.784     510.0       0.317857  \n",
      "3930      10.0    0.9948     0.096     0.181    0.722     638.0       0.267544  \n",
      "\n",
      "[3931 rows x 47 columns]\n"
     ]
    }
   ],
   "source": [
    "df = pd.read_csv(\"data/feature_engineered/train_vars.csv\")\n",
    "print(df)"
   ]
  },
  {
   "cell_type": "code",
   "execution_count": 4,
   "id": "18d0ea14",
   "metadata": {},
   "outputs": [],
   "source": [
    "label_cols = ['cohesion', 'syntax', 'vocabulary', 'phraseology', 'grammar', 'conventions']"
   ]
  },
  {
   "cell_type": "code",
   "execution_count": 5,
   "id": "aacb0721",
   "metadata": {},
   "outputs": [],
   "source": [
    "feature_cols = df.columns.difference(['text_id', 'full_text'] + label_cols).tolist()"
   ]
  },
  {
   "cell_type": "code",
   "execution_count": 6,
   "id": "f8249a83",
   "metadata": {},
   "outputs": [],
   "source": [
    "df = df.dropna()"
   ]
  },
  {
   "cell_type": "code",
   "execution_count": 7,
   "id": "2d2a3036",
   "metadata": {},
   "outputs": [
    {
     "name": "stdout",
     "output_type": "stream",
     "text": [
      "Evaluation mit MCRMSE: 0.5501\n"
     ]
    }
   ],
   "source": [
    "\n",
    "# Deine Loss-Funktion bleibt unverändert\n",
    "class MCRMSELoss(nn.Module):\n",
    "    def __init__(self):\n",
    "        super().__init__()\n",
    "        self.mse = nn.MSELoss(reduction='none')\n",
    "\n",
    "    def forward(self, preds, targets):\n",
    "        colwise_mse = self.mse(preds, targets).mean(dim=0)\n",
    "        colwise_rmse = torch.sqrt(colwise_mse + 1e-8)\n",
    "        return colwise_rmse.mean()\n",
    "\n",
    "# Targets: alle Labelspalten\n",
    "y_all = df[label_cols].values\n",
    "X = df[feature_cols].values\n",
    "\n",
    "# Split für alle Zielgrößen\n",
    "X_train, X_test, y_train, y_test = train_test_split(X, y_all, test_size=0.2, random_state=42)\n",
    "\n",
    "# Modelltraining\n",
    "model = RandomForestRegressor(n_estimators=100, random_state=42)\n",
    "model.fit(X_train, y_train)\n",
    "\n",
    "# Vorhersage\n",
    "y_pred = model.predict(X_test)\n",
    "\n",
    "# In Torch-Tensoren umwandeln\n",
    "y_pred_tensor = torch.tensor(y_pred, dtype=torch.float32)\n",
    "y_test_tensor = torch.tensor(y_test, dtype=torch.float32)\n",
    "\n",
    "# Loss berechnen\n",
    "mcrmse_loss = MCRMSELoss()\n",
    "loss_value = mcrmse_loss(y_pred_tensor, y_test_tensor)\n",
    "\n",
    "print(f\"Evaluation mit MCRMSE: {loss_value.item():.4f}\")"
   ]
  },
  {
   "cell_type": "code",
   "execution_count": null,
   "id": "d0e12c16",
   "metadata": {},
   "outputs": [],
   "source": []
  },
  {
   "cell_type": "code",
   "execution_count": null,
   "id": "25dc4bb3",
   "metadata": {},
   "outputs": [],
   "source": []
  },
  {
   "cell_type": "code",
   "execution_count": null,
   "id": "e8d5f109",
   "metadata": {},
   "outputs": [],
   "source": []
  }
 ],
 "metadata": {
  "kernelspec": {
   "display_name": ".venv",
   "language": "python",
   "name": "python3"
  },
  "language_info": {
   "codemirror_mode": {
    "name": "ipython",
    "version": 3
   },
   "file_extension": ".py",
   "mimetype": "text/x-python",
   "name": "python",
   "nbconvert_exporter": "python",
   "pygments_lexer": "ipython3",
   "version": "3.9.6"
  }
 },
 "nbformat": 4,
 "nbformat_minor": 5
}
