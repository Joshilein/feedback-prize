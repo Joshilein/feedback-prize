{
 "cells": [
  {
   "cell_type": "markdown",
   "id": "6b319967",
   "metadata": {},
   "source": [
    "## Approaches to solving the ELL feedback price competition"
   ]
  },
  {
   "cell_type": "markdown",
   "id": "126fa4c4",
   "metadata": {},
   "source": [
    "### Approach 1: Trivial\n",
    "- take the average of each label\n",
    "- optimal constant for cost function\n",
    "- tbd: maby one step further -> taking text length/word occurences as basic predictor"
   ]
  },
  {
   "cell_type": "markdown",
   "id": "b767b8c5",
   "metadata": {},
   "source": [
    "### Approach 2: TF-IDF + Classifier per label\n",
    "- preprocessing (stopword removal, stemming, ...) needed\n",
    "- feature engineering (text length? - other metrics?)  \n",
    "(tbd)"
   ]
  },
  {
   "cell_type": "markdown",
   "id": "c8d49c1f",
   "metadata": {},
   "source": [
    "### Approach 3: Bert Embedding + MLP\n",
    "(tbd)"
   ]
  },
  {
   "cell_type": "markdown",
   "id": "4bd88054",
   "metadata": {},
   "source": [
    "### Approach 4: Finetuning Bert\n",
    "(tbd)"
   ]
  },
  {
   "cell_type": "markdown",
   "id": "b6be0e26",
   "metadata": {},
   "source": []
  }
 ],
 "metadata": {
  "language_info": {
   "name": "python"
  }
 },
 "nbformat": 4,
 "nbformat_minor": 5
}
